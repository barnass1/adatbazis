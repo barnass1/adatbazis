{
    "metadata": {
        "kernelspec": {
            "name": "SQL",
            "display_name": "SQL",
            "language": "sql"
        },
        "language_info": {
            "name": "sql",
            "version": ""
        }
    },
    "nbformat_minor": 2,
    "nbformat": 4,
    "cells": [
        {
            "cell_type": "markdown",
            "source": [
                "1\\. feladat"
            ],
            "metadata": {
                "azdata_cell_guid": "66f5f70c-79f3-4cf1-ab46-a246ec896fd8"
            },
            "attachments": {}
        },
        {
            "cell_type": "code",
            "source": [
                "SELECT  ROGZITETTE,\r\n",
                "        SZALLAS_NEV,\r\n",
                "        CIM\r\n",
                "FROM szallashely\r\n",
                "WHERE MONTH(ROGZ_IDO) = 3 AND LEFT(HELY, 7) = 'Balaton'\r\n",
                "ORDER BY CSILLAGOK_SZAMA DESC"
            ],
            "metadata": {
                "azdata_cell_guid": "e78d7a18-368e-472e-a4ea-550ca507997e",
                "language": "sql",
                "tags": []
            },
            "outputs": [
                {
                    "output_type": "display_data",
                    "data": {
                        "text/html": "(7 rows affected)"
                    },
                    "metadata": {}
                },
                {
                    "output_type": "display_data",
                    "data": {
                        "text/html": "Total execution time: 00:00:00.010"
                    },
                    "metadata": {}
                },
                {
                    "output_type": "execute_result",
                    "metadata": {},
                    "execution_count": 4,
                    "data": {
                        "application/vnd.dataresource+json": {
                            "schema": {
                                "fields": [
                                    {
                                        "name": "ROGZITETTE"
                                    },
                                    {
                                        "name": "SZALLAS_NEV"
                                    },
                                    {
                                        "name": "CIM"
                                    }
                                ]
                            },
                            "data": [
                                {
                                    "ROGZITETTE": "Béla",
                                    "SZALLAS_NEV": "Hotel Három Hattyú",
                                    "CIM": "8623 Balatonföldvár, Rákóczi Ferenc út 45."
                                },
                                {
                                    "ROGZITETTE": "Mari",
                                    "SZALLAS_NEV": "Jáde panzió",
                                    "CIM": "8624 Balatonföldvár, Kiss u.2."
                                },
                                {
                                    "ROGZITETTE": "Béla",
                                    "SZALLAS_NEV": "Kentaur Hotel",
                                    "CIM": "8600 Siófok (Széplak), Akácfa utca 1"
                                },
                                {
                                    "ROGZITETTE": "Béla",
                                    "SZALLAS_NEV": "Tímárház Panzió",
                                    "CIM": "8600 Siófok, Virág utca 1"
                                },
                                {
                                    "ROGZITETTE": "Béla",
                                    "SZALLAS_NEV": "Családi Ház",
                                    "CIM": "8630 Balatonboglár, József Attila utca 25"
                                },
                                {
                                    "ROGZITETTE": "Mari",
                                    "SZALLAS_NEV": "Szieszta Apartmanház",
                                    "CIM": "8630 Balatonboglár, Dózsa György utca 108"
                                },
                                {
                                    "ROGZITETTE": "Béla",
                                    "SZALLAS_NEV": "Partiszél Vendégház",
                                    "CIM": "8220 Balatonalmádi Neptun u. 23."
                                }
                            ]
                        },
                        "text/html": [
                            "<table>",
                            "<tr><th>ROGZITETTE</th><th>SZALLAS_NEV</th><th>CIM</th></tr>",
                            "<tr><td>Béla</td><td>Hotel Három Hattyú</td><td>8623 Balatonföldvár, Rákóczi Ferenc út 45.</td></tr>",
                            "<tr><td>Mari</td><td>Jáde panzió</td><td>8624 Balatonföldvár, Kiss u.2.</td></tr>",
                            "<tr><td>Béla</td><td>Kentaur Hotel</td><td>8600 Siófok (Széplak), Akácfa utca 1</td></tr>",
                            "<tr><td>Béla</td><td>Tímárház Panzió</td><td>8600 Siófok, Virág utca 1</td></tr>",
                            "<tr><td>Béla</td><td>Családi Ház</td><td>8630 Balatonboglár, József Attila utca 25</td></tr>",
                            "<tr><td>Mari</td><td>Szieszta Apartmanház</td><td>8630 Balatonboglár, Dózsa György utca 108</td></tr>",
                            "<tr><td>Béla</td><td>Partiszél Vendégház</td><td>8220 Balatonalmádi Neptun u. 23.</td></tr>",
                            "</table>"
                        ]
                    }
                }
            ],
            "execution_count": 4
        },
        {
            "cell_type": "markdown",
            "source": [
                "2\\. feladat"
            ],
            "metadata": {
                "azdata_cell_guid": "41267ab4-6766-4327-a3bc-819c2080be33"
            },
            "attachments": {}
        },
        {
            "cell_type": "code",
            "source": [
                "SELECT  TIPUS,\r\n",
                "        Avg(CSILLAGOK_SZAMA)\r\n",
                "FROM Szallashely\r\n",
                "WHERE CSILLAGOK_SZAMA >= 3 AND TIPUS = 'panzió'\r\n",
                "GROUP BY TIPUS"
            ],
            "metadata": {
                "azdata_cell_guid": "80639eca-9916-4ee0-af4d-3493b49a409d",
                "language": "sql"
            },
            "outputs": [
                {
                    "output_type": "display_data",
                    "data": {
                        "text/html": "(1 row affected)"
                    },
                    "metadata": {}
                },
                {
                    "output_type": "display_data",
                    "data": {
                        "text/html": "Total execution time: 00:00:00.006"
                    },
                    "metadata": {}
                },
                {
                    "output_type": "execute_result",
                    "metadata": {},
                    "execution_count": 34,
                    "data": {
                        "application/vnd.dataresource+json": {
                            "schema": {
                                "fields": [
                                    {
                                        "name": "TIPUS"
                                    },
                                    {
                                        "name": "(No column name)"
                                    }
                                ]
                            },
                            "data": [
                                {
                                    "TIPUS": "panzió",
                                    "(No column name)": "3"
                                }
                            ]
                        },
                        "text/html": [
                            "<table>",
                            "<tr><th>TIPUS</th><th>(No column name)</th></tr>",
                            "<tr><td>panzió</td><td>3</td></tr>",
                            "</table>"
                        ]
                    }
                }
            ],
            "execution_count": 34
        },
        {
            "cell_type": "code",
            "source": [
                "SELECT SZALLAS_NEV,\r\n",
                "IIF(TIPUS = 'panzió', 'Igen', 'Nem'), Szoba.*\r\n",
                "FROM Szoba LEFT JOIN Foglalas ON SZOBA_ID = SZOBA_FK\r\n",
                "                    JOIN szallashely ON SZALLAS_FK = SZALLAS_ID\r\n",
                "WHERE SZOBA_FK IS NULL\r\n",
                ""
            ],
            "metadata": {
                "azdata_cell_guid": "f6d3c9a6-bbd5-4703-ae22-1de316cf8ef2",
                "language": "sql"
            },
            "outputs": [
                {
                    "output_type": "display_data",
                    "data": {
                        "text/html": "(97 rows affected)"
                    },
                    "metadata": {}
                },
                {
                    "output_type": "display_data",
                    "data": {
                        "text/html": "Total execution time: 00:00:00.052"
                    },
                    "metadata": {}
                },
                {
                    "output_type": "execute_result",
                    "metadata": {},
                    "execution_count": 42,
                    "data": {
                        "application/vnd.dataresource+json": {
                            "schema": {
                                "fields": [
                                    {
                                        "name": "SZALLAS_NEV"
                                    },
                                    {
                                        "name": "(No column name)"
                                    },
                                    {
                                        "name": "SZOBA_ID"
                                    },
                                    {
                                        "name": "SZOBA_SZAMA"
                                    },
                                    {
                                        "name": "FEROHELY"
                                    },
                                    {
                                        "name": "POTAGY"
                                    },
                                    {
                                        "name": "KLIMAS"
                                    },
                                    {
                                        "name": "SZALLAS_FK"
                                    }
                                ]
                            },
                            "data": [
                                {
                                    "SZALLAS_NEV": "Lagúna Hotel",
                                    "(No column name)": "Nem",
                                    "SZOBA_ID": "159",
                                    "SZOBA_SZAMA": "25",
                                    "FEROHELY": "3",
                                    "POTAGY": "1",
                                    "KLIMAS": "n",
                                    "SZALLAS_FK": "10"
                                },
                                {
                                    "SZALLAS_NEV": "Gold Hotel",
                                    "(No column name)": "Nem",
                                    "SZOBA_ID": "199",
                                    "SZOBA_SZAMA": "35",
                                    "FEROHELY": "3",
                                    "POTAGY": "2",
                                    "KLIMAS": "i",
                                    "SZALLAS_FK": "12"
                                },
                                {
                                    "SZALLAS_NEV": "Gold Hotel",
                                    "(No column name)": "Nem",
                                    "SZOBA_ID": "200",
                                    "SZOBA_SZAMA": "36",
                                    "FEROHELY": "2",
                                    "POTAGY": "0",
                                    "KLIMAS": "i",
                                    "SZALLAS_FK": "12"
                                },
                                {
                                    "SZALLAS_NEV": "Gold Hotel",
                                    "(No column name)": "Nem",
                                    "SZOBA_ID": "201",
                                    "SZOBA_SZAMA": "37",
                                    "FEROHELY": "3",
                                    "POTAGY": "1",
                                    "KLIMAS": "n",
                                    "SZALLAS_FK": "12"
                                },
                                {
                                    "SZALLAS_NEV": "Gold Hotel",
                                    "(No column name)": "Nem",
                                    "SZOBA_ID": "202",
                                    "SZOBA_SZAMA": "38",
                                    "FEROHELY": "3",
                                    "POTAGY": "1",
                                    "KLIMAS": "i",
                                    "SZALLAS_FK": "12"
                                },
                                {
                                    "SZALLAS_NEV": "Gold Hotel",
                                    "(No column name)": "Nem",
                                    "SZOBA_ID": "203",
                                    "SZOBA_SZAMA": "39",
                                    "FEROHELY": "3",
                                    "POTAGY": "0",
                                    "KLIMAS": "i",
                                    "SZALLAS_FK": "12"
                                },
                                {
                                    "SZALLAS_NEV": "Gold Hotel",
                                    "(No column name)": "Nem",
                                    "SZOBA_ID": "204",
                                    "SZOBA_SZAMA": "40",
                                    "FEROHELY": "3",
                                    "POTAGY": "1",
                                    "KLIMAS": "i",
                                    "SZALLAS_FK": "12"
                                },
                                {
                                    "SZALLAS_NEV": "Gold Hotel",
                                    "(No column name)": "Nem",
                                    "SZOBA_ID": "205",
                                    "SZOBA_SZAMA": "41",
                                    "FEROHELY": "3",
                                    "POTAGY": "0",
                                    "KLIMAS": "i",
                                    "SZALLAS_FK": "12"
                                },
                                {
                                    "SZALLAS_NEV": "Gold Hotel",
                                    "(No column name)": "Nem",
                                    "SZOBA_ID": "206",
                                    "SZOBA_SZAMA": "42",
                                    "FEROHELY": "2",
                                    "POTAGY": "1",
                                    "KLIMAS": "i",
                                    "SZALLAS_FK": "12"
                                },
                                {
                                    "SZALLAS_NEV": "Gold Hotel",
                                    "(No column name)": "Nem",
                                    "SZOBA_ID": "207",
                                    "SZOBA_SZAMA": "43",
                                    "FEROHELY": "2",
                                    "POTAGY": "1",
                                    "KLIMAS": "i",
                                    "SZALLAS_FK": "12"
                                },
                                {
                                    "SZALLAS_NEV": "Gold Hotel",
                                    "(No column name)": "Nem",
                                    "SZOBA_ID": "208",
                                    "SZOBA_SZAMA": "44",
                                    "FEROHELY": "2",
                                    "POTAGY": "1",
                                    "KLIMAS": "i",
                                    "SZALLAS_FK": "12"
                                },
                                {
                                    "SZALLAS_NEV": "Gold Hotel",
                                    "(No column name)": "Nem",
                                    "SZOBA_ID": "209",
                                    "SZOBA_SZAMA": "45",
                                    "FEROHELY": "3",
                                    "POTAGY": "2",
                                    "KLIMAS": "n",
                                    "SZALLAS_FK": "12"
                                },
                                {
                                    "SZALLAS_NEV": "Gold Hotel",
                                    "(No column name)": "Nem",
                                    "SZOBA_ID": "210",
                                    "SZOBA_SZAMA": "46",
                                    "FEROHELY": "2",
                                    "POTAGY": "0",
                                    "KLIMAS": "i",
                                    "SZALLAS_FK": "12"
                                },
                                {
                                    "SZALLAS_NEV": "Gold Hotel",
                                    "(No column name)": "Nem",
                                    "SZOBA_ID": "211",
                                    "SZOBA_SZAMA": "47",
                                    "FEROHELY": "2",
                                    "POTAGY": "1",
                                    "KLIMAS": "i",
                                    "SZALLAS_FK": "12"
                                },
                                {
                                    "SZALLAS_NEV": "Gold Hotel",
                                    "(No column name)": "Nem",
                                    "SZOBA_ID": "212",
                                    "SZOBA_SZAMA": "48",
                                    "FEROHELY": "3",
                                    "POTAGY": "0",
                                    "KLIMAS": "n",
                                    "SZALLAS_FK": "12"
                                },
                                {
                                    "SZALLAS_NEV": "Gold Hotel",
                                    "(No column name)": "Nem",
                                    "SZOBA_ID": "213",
                                    "SZOBA_SZAMA": "49",
                                    "FEROHELY": "3",
                                    "POTAGY": "0",
                                    "KLIMAS": "i",
                                    "SZALLAS_FK": "12"
                                },
                                {
                                    "SZALLAS_NEV": "Gold Hotel",
                                    "(No column name)": "Nem",
                                    "SZOBA_ID": "214",
                                    "SZOBA_SZAMA": "50",
                                    "FEROHELY": "3",
                                    "POTAGY": "1",
                                    "KLIMAS": "i",
                                    "SZALLAS_FK": "12"
                                },
                                {
                                    "SZALLAS_NEV": "Riviéra Panzió",
                                    "(No column name)": "Igen",
                                    "SZOBA_ID": "215",
                                    "SZOBA_SZAMA": "1",
                                    "FEROHELY": "2",
                                    "POTAGY": "1",
                                    "KLIMAS": "i",
                                    "SZALLAS_FK": "13"
                                },
                                {
                                    "SZALLAS_NEV": "Riviéra Panzió",
                                    "(No column name)": "Igen",
                                    "SZOBA_ID": "216",
                                    "SZOBA_SZAMA": "2",
                                    "FEROHELY": "3",
                                    "POTAGY": "1",
                                    "KLIMAS": "i",
                                    "SZALLAS_FK": "13"
                                },
                                {
                                    "SZALLAS_NEV": "Riviéra Panzió",
                                    "(No column name)": "Igen",
                                    "SZOBA_ID": "217",
                                    "SZOBA_SZAMA": "3",
                                    "FEROHELY": "2",
                                    "POTAGY": "1",
                                    "KLIMAS": "n",
                                    "SZALLAS_FK": "13"
                                },
                                {
                                    "SZALLAS_NEV": "Riviéra Panzió",
                                    "(No column name)": "Igen",
                                    "SZOBA_ID": "218",
                                    "SZOBA_SZAMA": "4",
                                    "FEROHELY": "3",
                                    "POTAGY": "0",
                                    "KLIMAS": "i",
                                    "SZALLAS_FK": "13"
                                },
                                {
                                    "SZALLAS_NEV": "Riviéra Panzió",
                                    "(No column name)": "Igen",
                                    "SZOBA_ID": "219",
                                    "SZOBA_SZAMA": "5",
                                    "FEROHELY": "2",
                                    "POTAGY": "0",
                                    "KLIMAS": "n",
                                    "SZALLAS_FK": "13"
                                },
                                {
                                    "SZALLAS_NEV": "Riviéra Panzió",
                                    "(No column name)": "Igen",
                                    "SZOBA_ID": "220",
                                    "SZOBA_SZAMA": "6",
                                    "FEROHELY": "3",
                                    "POTAGY": "0",
                                    "KLIMAS": "i",
                                    "SZALLAS_FK": "13"
                                },
                                {
                                    "SZALLAS_NEV": "Riviéra Panzió",
                                    "(No column name)": "Igen",
                                    "SZOBA_ID": "221",
                                    "SZOBA_SZAMA": "7",
                                    "FEROHELY": "3",
                                    "POTAGY": "0",
                                    "KLIMAS": "i",
                                    "SZALLAS_FK": "13"
                                },
                                {
                                    "SZALLAS_NEV": "Riviéra Panzió",
                                    "(No column name)": "Igen",
                                    "SZOBA_ID": "222",
                                    "SZOBA_SZAMA": "8",
                                    "FEROHELY": "2",
                                    "POTAGY": "0",
                                    "KLIMAS": "n",
                                    "SZALLAS_FK": "13"
                                },
                                {
                                    "SZALLAS_NEV": "Riviéra Panzió",
                                    "(No column name)": "Igen",
                                    "SZOBA_ID": "223",
                                    "SZOBA_SZAMA": "9",
                                    "FEROHELY": "2",
                                    "POTAGY": "1",
                                    "KLIMAS": "i",
                                    "SZALLAS_FK": "13"
                                },
                                {
                                    "SZALLAS_NEV": "Riviéra Panzió",
                                    "(No column name)": "Igen",
                                    "SZOBA_ID": "224",
                                    "SZOBA_SZAMA": "10",
                                    "FEROHELY": "2",
                                    "POTAGY": "0",
                                    "KLIMAS": "i",
                                    "SZALLAS_FK": "13"
                                },
                                {
                                    "SZALLAS_NEV": "Riviéra Panzió",
                                    "(No column name)": "Igen",
                                    "SZOBA_ID": "225",
                                    "SZOBA_SZAMA": "11",
                                    "FEROHELY": "2",
                                    "POTAGY": "1",
                                    "KLIMAS": "i",
                                    "SZALLAS_FK": "13"
                                },
                                {
                                    "SZALLAS_NEV": "Riviéra Panzió",
                                    "(No column name)": "Igen",
                                    "SZOBA_ID": "226",
                                    "SZOBA_SZAMA": "12",
                                    "FEROHELY": "3",
                                    "POTAGY": "1",
                                    "KLIMAS": "n",
                                    "SZALLAS_FK": "13"
                                },
                                {
                                    "SZALLAS_NEV": "Nyárfás Vendégház",
                                    "(No column name)": "Nem",
                                    "SZOBA_ID": "227",
                                    "SZOBA_SZAMA": "1",
                                    "FEROHELY": "2",
                                    "POTAGY": "1",
                                    "KLIMAS": "i",
                                    "SZALLAS_FK": "14"
                                },
                                {
                                    "SZALLAS_NEV": "Nyárfás Vendégház",
                                    "(No column name)": "Nem",
                                    "SZOBA_ID": "228",
                                    "SZOBA_SZAMA": "2",
                                    "FEROHELY": "3",
                                    "POTAGY": "0",
                                    "KLIMAS": "i",
                                    "SZALLAS_FK": "14"
                                },
                                {
                                    "SZALLAS_NEV": "Nyárfás Vendégház",
                                    "(No column name)": "Nem",
                                    "SZOBA_ID": "229",
                                    "SZOBA_SZAMA": "3",
                                    "FEROHELY": "2",
                                    "POTAGY": "0",
                                    "KLIMAS": "i",
                                    "SZALLAS_FK": "14"
                                },
                                {
                                    "SZALLAS_NEV": "Nyárfás Vendégház",
                                    "(No column name)": "Nem",
                                    "SZOBA_ID": "230",
                                    "SZOBA_SZAMA": "4",
                                    "FEROHELY": "3",
                                    "POTAGY": "2",
                                    "KLIMAS": "i",
                                    "SZALLAS_FK": "14"
                                },
                                {
                                    "SZALLAS_NEV": "Tímárház Panzió",
                                    "(No column name)": "Igen",
                                    "SZOBA_ID": "231",
                                    "SZOBA_SZAMA": "1",
                                    "FEROHELY": "2",
                                    "POTAGY": "0",
                                    "KLIMAS": "i",
                                    "SZALLAS_FK": "15"
                                },
                                {
                                    "SZALLAS_NEV": "Tímárház Panzió",
                                    "(No column name)": "Igen",
                                    "SZOBA_ID": "232",
                                    "SZOBA_SZAMA": "2",
                                    "FEROHELY": "2",
                                    "POTAGY": "0",
                                    "KLIMAS": "i",
                                    "SZALLAS_FK": "15"
                                },
                                {
                                    "SZALLAS_NEV": "Tímárház Panzió",
                                    "(No column name)": "Igen",
                                    "SZOBA_ID": "233",
                                    "SZOBA_SZAMA": "3",
                                    "FEROHELY": "3",
                                    "POTAGY": "0",
                                    "KLIMAS": "n",
                                    "SZALLAS_FK": "15"
                                },
                                {
                                    "SZALLAS_NEV": "Tímárház Panzió",
                                    "(No column name)": "Igen",
                                    "SZOBA_ID": "234",
                                    "SZOBA_SZAMA": "4",
                                    "FEROHELY": "3",
                                    "POTAGY": "1",
                                    "KLIMAS": "i",
                                    "SZALLAS_FK": "15"
                                },
                                {
                                    "SZALLAS_NEV": "Tímárház Panzió",
                                    "(No column name)": "Igen",
                                    "SZOBA_ID": "235",
                                    "SZOBA_SZAMA": "5",
                                    "FEROHELY": "3",
                                    "POTAGY": "0",
                                    "KLIMAS": "i",
                                    "SZALLAS_FK": "15"
                                },
                                {
                                    "SZALLAS_NEV": "Tímárház Panzió",
                                    "(No column name)": "Igen",
                                    "SZOBA_ID": "236",
                                    "SZOBA_SZAMA": "6",
                                    "FEROHELY": "3",
                                    "POTAGY": "1",
                                    "KLIMAS": "n",
                                    "SZALLAS_FK": "15"
                                },
                                {
                                    "SZALLAS_NEV": "Tímárház Panzió",
                                    "(No column name)": "Igen",
                                    "SZOBA_ID": "237",
                                    "SZOBA_SZAMA": "7",
                                    "FEROHELY": "2",
                                    "POTAGY": "2",
                                    "KLIMAS": "n",
                                    "SZALLAS_FK": "15"
                                },
                                {
                                    "SZALLAS_NEV": "Tímárház Panzió",
                                    "(No column name)": "Igen",
                                    "SZOBA_ID": "238",
                                    "SZOBA_SZAMA": "8",
                                    "FEROHELY": "3",
                                    "POTAGY": "1",
                                    "KLIMAS": "i",
                                    "SZALLAS_FK": "15"
                                },
                                {
                                    "SZALLAS_NEV": "Tímárház Panzió",
                                    "(No column name)": "Igen",
                                    "SZOBA_ID": "239",
                                    "SZOBA_SZAMA": "9",
                                    "FEROHELY": "2",
                                    "POTAGY": "2",
                                    "KLIMAS": "i",
                                    "SZALLAS_FK": "15"
                                },
                                {
                                    "SZALLAS_NEV": "Tímárház Panzió",
                                    "(No column name)": "Igen",
                                    "SZOBA_ID": "240",
                                    "SZOBA_SZAMA": "10",
                                    "FEROHELY": "3",
                                    "POTAGY": "0",
                                    "KLIMAS": "i",
                                    "SZALLAS_FK": "15"
                                },
                                {
                                    "SZALLAS_NEV": "Tímárház Panzió",
                                    "(No column name)": "Igen",
                                    "SZOBA_ID": "241",
                                    "SZOBA_SZAMA": "11",
                                    "FEROHELY": "2",
                                    "POTAGY": "0",
                                    "KLIMAS": "i",
                                    "SZALLAS_FK": "15"
                                },
                                {
                                    "SZALLAS_NEV": "Tímárház Panzió",
                                    "(No column name)": "Igen",
                                    "SZOBA_ID": "242",
                                    "SZOBA_SZAMA": "12",
                                    "FEROHELY": "2",
                                    "POTAGY": "1",
                                    "KLIMAS": "i",
                                    "SZALLAS_FK": "15"
                                },
                                {
                                    "SZALLAS_NEV": "Bagoly Hotel",
                                    "(No column name)": "Nem",
                                    "SZOBA_ID": "243",
                                    "SZOBA_SZAMA": "1",
                                    "FEROHELY": "2",
                                    "POTAGY": "0",
                                    "KLIMAS": "i",
                                    "SZALLAS_FK": "16"
                                },
                                {
                                    "SZALLAS_NEV": "Bagoly Hotel",
                                    "(No column name)": "Nem",
                                    "SZOBA_ID": "244",
                                    "SZOBA_SZAMA": "2",
                                    "FEROHELY": "2",
                                    "POTAGY": "1",
                                    "KLIMAS": "i",
                                    "SZALLAS_FK": "16"
                                },
                                {
                                    "SZALLAS_NEV": "Bagoly Hotel",
                                    "(No column name)": "Nem",
                                    "SZOBA_ID": "245",
                                    "SZOBA_SZAMA": "3",
                                    "FEROHELY": "2",
                                    "POTAGY": "1",
                                    "KLIMAS": "i",
                                    "SZALLAS_FK": "16"
                                },
                                {
                                    "SZALLAS_NEV": "Bagoly Hotel",
                                    "(No column name)": "Nem",
                                    "SZOBA_ID": "246",
                                    "SZOBA_SZAMA": "4",
                                    "FEROHELY": "2",
                                    "POTAGY": "0",
                                    "KLIMAS": "i",
                                    "SZALLAS_FK": "16"
                                },
                                {
                                    "SZALLAS_NEV": "Bagoly Hotel",
                                    "(No column name)": "Nem",
                                    "SZOBA_ID": "247",
                                    "SZOBA_SZAMA": "5",
                                    "FEROHELY": "2",
                                    "POTAGY": "0",
                                    "KLIMAS": "i",
                                    "SZALLAS_FK": "16"
                                },
                                {
                                    "SZALLAS_NEV": "Bagoly Hotel",
                                    "(No column name)": "Nem",
                                    "SZOBA_ID": "248",
                                    "SZOBA_SZAMA": "6",
                                    "FEROHELY": "2",
                                    "POTAGY": "2",
                                    "KLIMAS": "i",
                                    "SZALLAS_FK": "16"
                                },
                                {
                                    "SZALLAS_NEV": "Bagoly Hotel",
                                    "(No column name)": "Nem",
                                    "SZOBA_ID": "249",
                                    "SZOBA_SZAMA": "7",
                                    "FEROHELY": "2",
                                    "POTAGY": "1",
                                    "KLIMAS": "n",
                                    "SZALLAS_FK": "16"
                                },
                                {
                                    "SZALLAS_NEV": "Bagoly Hotel",
                                    "(No column name)": "Nem",
                                    "SZOBA_ID": "250",
                                    "SZOBA_SZAMA": "8",
                                    "FEROHELY": "3",
                                    "POTAGY": "1",
                                    "KLIMAS": "n",
                                    "SZALLAS_FK": "16"
                                },
                                {
                                    "SZALLAS_NEV": "Bagoly Hotel",
                                    "(No column name)": "Nem",
                                    "SZOBA_ID": "251",
                                    "SZOBA_SZAMA": "9",
                                    "FEROHELY": "3",
                                    "POTAGY": "0",
                                    "KLIMAS": "n",
                                    "SZALLAS_FK": "16"
                                },
                                {
                                    "SZALLAS_NEV": "Bagoly Hotel",
                                    "(No column name)": "Nem",
                                    "SZOBA_ID": "252",
                                    "SZOBA_SZAMA": "10",
                                    "FEROHELY": "3",
                                    "POTAGY": "1",
                                    "KLIMAS": "i",
                                    "SZALLAS_FK": "16"
                                },
                                {
                                    "SZALLAS_NEV": "Bagoly Hotel",
                                    "(No column name)": "Nem",
                                    "SZOBA_ID": "253",
                                    "SZOBA_SZAMA": "11",
                                    "FEROHELY": "2",
                                    "POTAGY": "0",
                                    "KLIMAS": "i",
                                    "SZALLAS_FK": "16"
                                },
                                {
                                    "SZALLAS_NEV": "Bagoly Hotel",
                                    "(No column name)": "Nem",
                                    "SZOBA_ID": "254",
                                    "SZOBA_SZAMA": "12",
                                    "FEROHELY": "2",
                                    "POTAGY": "0",
                                    "KLIMAS": "i",
                                    "SZALLAS_FK": "16"
                                },
                                {
                                    "SZALLAS_NEV": "Bagoly Hotel",
                                    "(No column name)": "Nem",
                                    "SZOBA_ID": "255",
                                    "SZOBA_SZAMA": "13",
                                    "FEROHELY": "3",
                                    "POTAGY": "0",
                                    "KLIMAS": "n",
                                    "SZALLAS_FK": "16"
                                },
                                {
                                    "SZALLAS_NEV": "Bagoly Hotel",
                                    "(No column name)": "Nem",
                                    "SZOBA_ID": "256",
                                    "SZOBA_SZAMA": "14",
                                    "FEROHELY": "3",
                                    "POTAGY": "1",
                                    "KLIMAS": "i",
                                    "SZALLAS_FK": "16"
                                },
                                {
                                    "SZALLAS_NEV": "Bagoly Hotel",
                                    "(No column name)": "Nem",
                                    "SZOBA_ID": "257",
                                    "SZOBA_SZAMA": "15",
                                    "FEROHELY": "2",
                                    "POTAGY": "0",
                                    "KLIMAS": "i",
                                    "SZALLAS_FK": "16"
                                },
                                {
                                    "SZALLAS_NEV": "Bagoly Hotel",
                                    "(No column name)": "Nem",
                                    "SZOBA_ID": "258",
                                    "SZOBA_SZAMA": "16",
                                    "FEROHELY": "2",
                                    "POTAGY": "0",
                                    "KLIMAS": "i",
                                    "SZALLAS_FK": "16"
                                },
                                {
                                    "SZALLAS_NEV": "Bagoly Hotel",
                                    "(No column name)": "Nem",
                                    "SZOBA_ID": "259",
                                    "SZOBA_SZAMA": "17",
                                    "FEROHELY": "2",
                                    "POTAGY": "0",
                                    "KLIMAS": "i",
                                    "SZALLAS_FK": "16"
                                },
                                {
                                    "SZALLAS_NEV": "Bagoly Hotel",
                                    "(No column name)": "Nem",
                                    "SZOBA_ID": "260",
                                    "SZOBA_SZAMA": "18",
                                    "FEROHELY": "2",
                                    "POTAGY": "0",
                                    "KLIMAS": "i",
                                    "SZALLAS_FK": "16"
                                },
                                {
                                    "SZALLAS_NEV": "Bagoly Hotel",
                                    "(No column name)": "Nem",
                                    "SZOBA_ID": "261",
                                    "SZOBA_SZAMA": "19",
                                    "FEROHELY": "1",
                                    "POTAGY": "1",
                                    "KLIMAS": "n",
                                    "SZALLAS_FK": "16"
                                },
                                {
                                    "SZALLAS_NEV": "Bagoly Hotel",
                                    "(No column name)": "Nem",
                                    "SZOBA_ID": "262",
                                    "SZOBA_SZAMA": "20",
                                    "FEROHELY": "1",
                                    "POTAGY": "0",
                                    "KLIMAS": "n",
                                    "SZALLAS_FK": "16"
                                },
                                {
                                    "SZALLAS_NEV": "Szarvas Hotel",
                                    "(No column name)": "Nem",
                                    "SZOBA_ID": "263",
                                    "SZOBA_SZAMA": "1",
                                    "FEROHELY": "2",
                                    "POTAGY": "2",
                                    "KLIMAS": "i",
                                    "SZALLAS_FK": "17"
                                },
                                {
                                    "SZALLAS_NEV": "Szarvas Hotel",
                                    "(No column name)": "Nem",
                                    "SZOBA_ID": "264",
                                    "SZOBA_SZAMA": "2",
                                    "FEROHELY": "3",
                                    "POTAGY": "0",
                                    "KLIMAS": "i",
                                    "SZALLAS_FK": "17"
                                },
                                {
                                    "SZALLAS_NEV": "Szarvas Hotel",
                                    "(No column name)": "Nem",
                                    "SZOBA_ID": "265",
                                    "SZOBA_SZAMA": "3",
                                    "FEROHELY": "3",
                                    "POTAGY": "0",
                                    "KLIMAS": "i",
                                    "SZALLAS_FK": "17"
                                },
                                {
                                    "SZALLAS_NEV": "Szarvas Hotel",
                                    "(No column name)": "Nem",
                                    "SZOBA_ID": "266",
                                    "SZOBA_SZAMA": "4",
                                    "FEROHELY": "2",
                                    "POTAGY": "1",
                                    "KLIMAS": "i",
                                    "SZALLAS_FK": "17"
                                },
                                {
                                    "SZALLAS_NEV": "Szarvas Hotel",
                                    "(No column name)": "Nem",
                                    "SZOBA_ID": "267",
                                    "SZOBA_SZAMA": "5",
                                    "FEROHELY": "2",
                                    "POTAGY": "1",
                                    "KLIMAS": "n",
                                    "SZALLAS_FK": "17"
                                },
                                {
                                    "SZALLAS_NEV": "Szarvas Hotel",
                                    "(No column name)": "Nem",
                                    "SZOBA_ID": "268",
                                    "SZOBA_SZAMA": "6",
                                    "FEROHELY": "2",
                                    "POTAGY": "2",
                                    "KLIMAS": "n",
                                    "SZALLAS_FK": "17"
                                },
                                {
                                    "SZALLAS_NEV": "Szarvas Hotel",
                                    "(No column name)": "Nem",
                                    "SZOBA_ID": "269",
                                    "SZOBA_SZAMA": "7",
                                    "FEROHELY": "2",
                                    "POTAGY": "1",
                                    "KLIMAS": "i",
                                    "SZALLAS_FK": "17"
                                },
                                {
                                    "SZALLAS_NEV": "Szarvas Hotel",
                                    "(No column name)": "Nem",
                                    "SZOBA_ID": "270",
                                    "SZOBA_SZAMA": "8",
                                    "FEROHELY": "3",
                                    "POTAGY": "0",
                                    "KLIMAS": "n",
                                    "SZALLAS_FK": "17"
                                },
                                {
                                    "SZALLAS_NEV": "Szarvas Hotel",
                                    "(No column name)": "Nem",
                                    "SZOBA_ID": "271",
                                    "SZOBA_SZAMA": "9",
                                    "FEROHELY": "3",
                                    "POTAGY": "0",
                                    "KLIMAS": "i",
                                    "SZALLAS_FK": "17"
                                },
                                {
                                    "SZALLAS_NEV": "Szarvas Hotel",
                                    "(No column name)": "Nem",
                                    "SZOBA_ID": "272",
                                    "SZOBA_SZAMA": "10",
                                    "FEROHELY": "3",
                                    "POTAGY": "0",
                                    "KLIMAS": "i",
                                    "SZALLAS_FK": "17"
                                },
                                {
                                    "SZALLAS_NEV": "Szarvas Hotel",
                                    "(No column name)": "Nem",
                                    "SZOBA_ID": "273",
                                    "SZOBA_SZAMA": "11",
                                    "FEROHELY": "2",
                                    "POTAGY": "1",
                                    "KLIMAS": "i",
                                    "SZALLAS_FK": "17"
                                },
                                {
                                    "SZALLAS_NEV": "Szarvas Hotel",
                                    "(No column name)": "Nem",
                                    "SZOBA_ID": "274",
                                    "SZOBA_SZAMA": "12",
                                    "FEROHELY": "3",
                                    "POTAGY": "1",
                                    "KLIMAS": "i",
                                    "SZALLAS_FK": "17"
                                },
                                {
                                    "SZALLAS_NEV": "Szarvas Hotel",
                                    "(No column name)": "Nem",
                                    "SZOBA_ID": "275",
                                    "SZOBA_SZAMA": "13",
                                    "FEROHELY": "2",
                                    "POTAGY": "1",
                                    "KLIMAS": "n",
                                    "SZALLAS_FK": "17"
                                },
                                {
                                    "SZALLAS_NEV": "Szarvas Hotel",
                                    "(No column name)": "Nem",
                                    "SZOBA_ID": "276",
                                    "SZOBA_SZAMA": "14",
                                    "FEROHELY": "2",
                                    "POTAGY": "0",
                                    "KLIMAS": "i",
                                    "SZALLAS_FK": "17"
                                },
                                {
                                    "SZALLAS_NEV": "Szarvas Hotel",
                                    "(No column name)": "Nem",
                                    "SZOBA_ID": "277",
                                    "SZOBA_SZAMA": "15",
                                    "FEROHELY": "2",
                                    "POTAGY": "0",
                                    "KLIMAS": "i",
                                    "SZALLAS_FK": "17"
                                },
                                {
                                    "SZALLAS_NEV": "Fortuna Apartman",
                                    "(No column name)": "Nem",
                                    "SZOBA_ID": "278",
                                    "SZOBA_SZAMA": "1",
                                    "FEROHELY": "3",
                                    "POTAGY": "1",
                                    "KLIMAS": "i",
                                    "SZALLAS_FK": "18"
                                },
                                {
                                    "SZALLAS_NEV": "Fortuna Apartman",
                                    "(No column name)": "Nem",
                                    "SZOBA_ID": "279",
                                    "SZOBA_SZAMA": "2",
                                    "FEROHELY": "2",
                                    "POTAGY": "1",
                                    "KLIMAS": "i",
                                    "SZALLAS_FK": "18"
                                },
                                {
                                    "SZALLAS_NEV": "Fortuna Apartman",
                                    "(No column name)": "Nem",
                                    "SZOBA_ID": "280",
                                    "SZOBA_SZAMA": "3",
                                    "FEROHELY": "3",
                                    "POTAGY": "0",
                                    "KLIMAS": "n",
                                    "SZALLAS_FK": "18"
                                },
                                {
                                    "SZALLAS_NEV": "Nyárfás Vendégház",
                                    "(No column name)": "Nem",
                                    "SZOBA_ID": "281",
                                    "SZOBA_SZAMA": "1",
                                    "FEROHELY": "2",
                                    "POTAGY": "0",
                                    "KLIMAS": "n",
                                    "SZALLAS_FK": "19"
                                },
                                {
                                    "SZALLAS_NEV": "Nyárfás Vendégház",
                                    "(No column name)": "Nem",
                                    "SZOBA_ID": "282",
                                    "SZOBA_SZAMA": "2",
                                    "FEROHELY": "2",
                                    "POTAGY": "0",
                                    "KLIMAS": "i",
                                    "SZALLAS_FK": "19"
                                },
                                {
                                    "SZALLAS_NEV": "Nyárfás Vendégház",
                                    "(No column name)": "Nem",
                                    "SZOBA_ID": "283",
                                    "SZOBA_SZAMA": "3",
                                    "FEROHELY": "2",
                                    "POTAGY": "0",
                                    "KLIMAS": "n",
                                    "SZALLAS_FK": "19"
                                },
                                {
                                    "SZALLAS_NEV": "Nyárfás Vendégház",
                                    "(No column name)": "Nem",
                                    "SZOBA_ID": "284",
                                    "SZOBA_SZAMA": "4",
                                    "FEROHELY": "2",
                                    "POTAGY": "2",
                                    "KLIMAS": "i",
                                    "SZALLAS_FK": "19"
                                },
                                {
                                    "SZALLAS_NEV": "Kollégium",
                                    "(No column name)": "Nem",
                                    "SZOBA_ID": "285",
                                    "SZOBA_SZAMA": "1",
                                    "FEROHELY": "2",
                                    "POTAGY": "1",
                                    "KLIMAS": "i",
                                    "SZALLAS_FK": "20"
                                },
                                {
                                    "SZALLAS_NEV": "Kollégium",
                                    "(No column name)": "Nem",
                                    "SZOBA_ID": "286",
                                    "SZOBA_SZAMA": "2",
                                    "FEROHELY": "3",
                                    "POTAGY": "0",
                                    "KLIMAS": "i",
                                    "SZALLAS_FK": "20"
                                },
                                {
                                    "SZALLAS_NEV": "Kollégium",
                                    "(No column name)": "Nem",
                                    "SZOBA_ID": "287",
                                    "SZOBA_SZAMA": "3",
                                    "FEROHELY": "3",
                                    "POTAGY": "0",
                                    "KLIMAS": "n",
                                    "SZALLAS_FK": "20"
                                },
                                {
                                    "SZALLAS_NEV": "Kollégium",
                                    "(No column name)": "Nem",
                                    "SZOBA_ID": "288",
                                    "SZOBA_SZAMA": "4",
                                    "FEROHELY": "2",
                                    "POTAGY": "1",
                                    "KLIMAS": "i",
                                    "SZALLAS_FK": "20"
                                },
                                {
                                    "SZALLAS_NEV": "Kollégium",
                                    "(No column name)": "Nem",
                                    "SZOBA_ID": "289",
                                    "SZOBA_SZAMA": "5",
                                    "FEROHELY": "3",
                                    "POTAGY": "0",
                                    "KLIMAS": "i",
                                    "SZALLAS_FK": "20"
                                },
                                {
                                    "SZALLAS_NEV": "Kollégium",
                                    "(No column name)": "Nem",
                                    "SZOBA_ID": "290",
                                    "SZOBA_SZAMA": "6",
                                    "FEROHELY": "2",
                                    "POTAGY": "1",
                                    "KLIMAS": "i",
                                    "SZALLAS_FK": "20"
                                },
                                {
                                    "SZALLAS_NEV": "Kollégium",
                                    "(No column name)": "Nem",
                                    "SZOBA_ID": "291",
                                    "SZOBA_SZAMA": "7",
                                    "FEROHELY": "2",
                                    "POTAGY": "1",
                                    "KLIMAS": "i",
                                    "SZALLAS_FK": "20"
                                },
                                {
                                    "SZALLAS_NEV": "Kollégium",
                                    "(No column name)": "Nem",
                                    "SZOBA_ID": "292",
                                    "SZOBA_SZAMA": "8",
                                    "FEROHELY": "2",
                                    "POTAGY": "1",
                                    "KLIMAS": "i",
                                    "SZALLAS_FK": "20"
                                },
                                {
                                    "SZALLAS_NEV": "Kollégium",
                                    "(No column name)": "Nem",
                                    "SZOBA_ID": "293",
                                    "SZOBA_SZAMA": "9",
                                    "FEROHELY": "2",
                                    "POTAGY": "1",
                                    "KLIMAS": "i",
                                    "SZALLAS_FK": "20"
                                },
                                {
                                    "SZALLAS_NEV": "Kollégium",
                                    "(No column name)": "Nem",
                                    "SZOBA_ID": "294",
                                    "SZOBA_SZAMA": "10",
                                    "FEROHELY": "3",
                                    "POTAGY": "0",
                                    "KLIMAS": "i",
                                    "SZALLAS_FK": "20"
                                }
                            ]
                        },
                        "text/html": [
                            "<table>",
                            "<tr><th>SZALLAS_NEV</th><th>(No column name)</th><th>SZOBA_ID</th><th>SZOBA_SZAMA</th><th>FEROHELY</th><th>POTAGY</th><th>KLIMAS</th><th>SZALLAS_FK</th></tr>",
                            "<tr><td>Lagúna Hotel</td><td>Nem</td><td>159</td><td>25</td><td>3</td><td>1</td><td>n</td><td>10</td></tr>",
                            "<tr><td>Gold Hotel</td><td>Nem</td><td>199</td><td>35</td><td>3</td><td>2</td><td>i</td><td>12</td></tr>",
                            "<tr><td>Gold Hotel</td><td>Nem</td><td>200</td><td>36</td><td>2</td><td>0</td><td>i</td><td>12</td></tr>",
                            "<tr><td>Gold Hotel</td><td>Nem</td><td>201</td><td>37</td><td>3</td><td>1</td><td>n</td><td>12</td></tr>",
                            "<tr><td>Gold Hotel</td><td>Nem</td><td>202</td><td>38</td><td>3</td><td>1</td><td>i</td><td>12</td></tr>",
                            "<tr><td>Gold Hotel</td><td>Nem</td><td>203</td><td>39</td><td>3</td><td>0</td><td>i</td><td>12</td></tr>",
                            "<tr><td>Gold Hotel</td><td>Nem</td><td>204</td><td>40</td><td>3</td><td>1</td><td>i</td><td>12</td></tr>",
                            "<tr><td>Gold Hotel</td><td>Nem</td><td>205</td><td>41</td><td>3</td><td>0</td><td>i</td><td>12</td></tr>",
                            "<tr><td>Gold Hotel</td><td>Nem</td><td>206</td><td>42</td><td>2</td><td>1</td><td>i</td><td>12</td></tr>",
                            "<tr><td>Gold Hotel</td><td>Nem</td><td>207</td><td>43</td><td>2</td><td>1</td><td>i</td><td>12</td></tr>",
                            "<tr><td>Gold Hotel</td><td>Nem</td><td>208</td><td>44</td><td>2</td><td>1</td><td>i</td><td>12</td></tr>",
                            "<tr><td>Gold Hotel</td><td>Nem</td><td>209</td><td>45</td><td>3</td><td>2</td><td>n</td><td>12</td></tr>",
                            "<tr><td>Gold Hotel</td><td>Nem</td><td>210</td><td>46</td><td>2</td><td>0</td><td>i</td><td>12</td></tr>",
                            "<tr><td>Gold Hotel</td><td>Nem</td><td>211</td><td>47</td><td>2</td><td>1</td><td>i</td><td>12</td></tr>",
                            "<tr><td>Gold Hotel</td><td>Nem</td><td>212</td><td>48</td><td>3</td><td>0</td><td>n</td><td>12</td></tr>",
                            "<tr><td>Gold Hotel</td><td>Nem</td><td>213</td><td>49</td><td>3</td><td>0</td><td>i</td><td>12</td></tr>",
                            "<tr><td>Gold Hotel</td><td>Nem</td><td>214</td><td>50</td><td>3</td><td>1</td><td>i</td><td>12</td></tr>",
                            "<tr><td>Riviéra Panzió</td><td>Igen</td><td>215</td><td>1</td><td>2</td><td>1</td><td>i</td><td>13</td></tr>",
                            "<tr><td>Riviéra Panzió</td><td>Igen</td><td>216</td><td>2</td><td>3</td><td>1</td><td>i</td><td>13</td></tr>",
                            "<tr><td>Riviéra Panzió</td><td>Igen</td><td>217</td><td>3</td><td>2</td><td>1</td><td>n</td><td>13</td></tr>",
                            "<tr><td>Riviéra Panzió</td><td>Igen</td><td>218</td><td>4</td><td>3</td><td>0</td><td>i</td><td>13</td></tr>",
                            "<tr><td>Riviéra Panzió</td><td>Igen</td><td>219</td><td>5</td><td>2</td><td>0</td><td>n</td><td>13</td></tr>",
                            "<tr><td>Riviéra Panzió</td><td>Igen</td><td>220</td><td>6</td><td>3</td><td>0</td><td>i</td><td>13</td></tr>",
                            "<tr><td>Riviéra Panzió</td><td>Igen</td><td>221</td><td>7</td><td>3</td><td>0</td><td>i</td><td>13</td></tr>",
                            "<tr><td>Riviéra Panzió</td><td>Igen</td><td>222</td><td>8</td><td>2</td><td>0</td><td>n</td><td>13</td></tr>",
                            "<tr><td>Riviéra Panzió</td><td>Igen</td><td>223</td><td>9</td><td>2</td><td>1</td><td>i</td><td>13</td></tr>",
                            "<tr><td>Riviéra Panzió</td><td>Igen</td><td>224</td><td>10</td><td>2</td><td>0</td><td>i</td><td>13</td></tr>",
                            "<tr><td>Riviéra Panzió</td><td>Igen</td><td>225</td><td>11</td><td>2</td><td>1</td><td>i</td><td>13</td></tr>",
                            "<tr><td>Riviéra Panzió</td><td>Igen</td><td>226</td><td>12</td><td>3</td><td>1</td><td>n</td><td>13</td></tr>",
                            "<tr><td>Nyárfás Vendégház</td><td>Nem</td><td>227</td><td>1</td><td>2</td><td>1</td><td>i</td><td>14</td></tr>",
                            "<tr><td>Nyárfás Vendégház</td><td>Nem</td><td>228</td><td>2</td><td>3</td><td>0</td><td>i</td><td>14</td></tr>",
                            "<tr><td>Nyárfás Vendégház</td><td>Nem</td><td>229</td><td>3</td><td>2</td><td>0</td><td>i</td><td>14</td></tr>",
                            "<tr><td>Nyárfás Vendégház</td><td>Nem</td><td>230</td><td>4</td><td>3</td><td>2</td><td>i</td><td>14</td></tr>",
                            "<tr><td>Tímárház Panzió</td><td>Igen</td><td>231</td><td>1</td><td>2</td><td>0</td><td>i</td><td>15</td></tr>",
                            "<tr><td>Tímárház Panzió</td><td>Igen</td><td>232</td><td>2</td><td>2</td><td>0</td><td>i</td><td>15</td></tr>",
                            "<tr><td>Tímárház Panzió</td><td>Igen</td><td>233</td><td>3</td><td>3</td><td>0</td><td>n</td><td>15</td></tr>",
                            "<tr><td>Tímárház Panzió</td><td>Igen</td><td>234</td><td>4</td><td>3</td><td>1</td><td>i</td><td>15</td></tr>",
                            "<tr><td>Tímárház Panzió</td><td>Igen</td><td>235</td><td>5</td><td>3</td><td>0</td><td>i</td><td>15</td></tr>",
                            "<tr><td>Tímárház Panzió</td><td>Igen</td><td>236</td><td>6</td><td>3</td><td>1</td><td>n</td><td>15</td></tr>",
                            "<tr><td>Tímárház Panzió</td><td>Igen</td><td>237</td><td>7</td><td>2</td><td>2</td><td>n</td><td>15</td></tr>",
                            "<tr><td>Tímárház Panzió</td><td>Igen</td><td>238</td><td>8</td><td>3</td><td>1</td><td>i</td><td>15</td></tr>",
                            "<tr><td>Tímárház Panzió</td><td>Igen</td><td>239</td><td>9</td><td>2</td><td>2</td><td>i</td><td>15</td></tr>",
                            "<tr><td>Tímárház Panzió</td><td>Igen</td><td>240</td><td>10</td><td>3</td><td>0</td><td>i</td><td>15</td></tr>",
                            "<tr><td>Tímárház Panzió</td><td>Igen</td><td>241</td><td>11</td><td>2</td><td>0</td><td>i</td><td>15</td></tr>",
                            "<tr><td>Tímárház Panzió</td><td>Igen</td><td>242</td><td>12</td><td>2</td><td>1</td><td>i</td><td>15</td></tr>",
                            "<tr><td>Bagoly Hotel</td><td>Nem</td><td>243</td><td>1</td><td>2</td><td>0</td><td>i</td><td>16</td></tr>",
                            "<tr><td>Bagoly Hotel</td><td>Nem</td><td>244</td><td>2</td><td>2</td><td>1</td><td>i</td><td>16</td></tr>",
                            "<tr><td>Bagoly Hotel</td><td>Nem</td><td>245</td><td>3</td><td>2</td><td>1</td><td>i</td><td>16</td></tr>",
                            "<tr><td>Bagoly Hotel</td><td>Nem</td><td>246</td><td>4</td><td>2</td><td>0</td><td>i</td><td>16</td></tr>",
                            "<tr><td>Bagoly Hotel</td><td>Nem</td><td>247</td><td>5</td><td>2</td><td>0</td><td>i</td><td>16</td></tr>",
                            "<tr><td>Bagoly Hotel</td><td>Nem</td><td>248</td><td>6</td><td>2</td><td>2</td><td>i</td><td>16</td></tr>",
                            "<tr><td>Bagoly Hotel</td><td>Nem</td><td>249</td><td>7</td><td>2</td><td>1</td><td>n</td><td>16</td></tr>",
                            "<tr><td>Bagoly Hotel</td><td>Nem</td><td>250</td><td>8</td><td>3</td><td>1</td><td>n</td><td>16</td></tr>",
                            "<tr><td>Bagoly Hotel</td><td>Nem</td><td>251</td><td>9</td><td>3</td><td>0</td><td>n</td><td>16</td></tr>",
                            "<tr><td>Bagoly Hotel</td><td>Nem</td><td>252</td><td>10</td><td>3</td><td>1</td><td>i</td><td>16</td></tr>",
                            "<tr><td>Bagoly Hotel</td><td>Nem</td><td>253</td><td>11</td><td>2</td><td>0</td><td>i</td><td>16</td></tr>",
                            "<tr><td>Bagoly Hotel</td><td>Nem</td><td>254</td><td>12</td><td>2</td><td>0</td><td>i</td><td>16</td></tr>",
                            "<tr><td>Bagoly Hotel</td><td>Nem</td><td>255</td><td>13</td><td>3</td><td>0</td><td>n</td><td>16</td></tr>",
                            "<tr><td>Bagoly Hotel</td><td>Nem</td><td>256</td><td>14</td><td>3</td><td>1</td><td>i</td><td>16</td></tr>",
                            "<tr><td>Bagoly Hotel</td><td>Nem</td><td>257</td><td>15</td><td>2</td><td>0</td><td>i</td><td>16</td></tr>",
                            "<tr><td>Bagoly Hotel</td><td>Nem</td><td>258</td><td>16</td><td>2</td><td>0</td><td>i</td><td>16</td></tr>",
                            "<tr><td>Bagoly Hotel</td><td>Nem</td><td>259</td><td>17</td><td>2</td><td>0</td><td>i</td><td>16</td></tr>",
                            "<tr><td>Bagoly Hotel</td><td>Nem</td><td>260</td><td>18</td><td>2</td><td>0</td><td>i</td><td>16</td></tr>",
                            "<tr><td>Bagoly Hotel</td><td>Nem</td><td>261</td><td>19</td><td>1</td><td>1</td><td>n</td><td>16</td></tr>",
                            "<tr><td>Bagoly Hotel</td><td>Nem</td><td>262</td><td>20</td><td>1</td><td>0</td><td>n</td><td>16</td></tr>",
                            "<tr><td>Szarvas Hotel</td><td>Nem</td><td>263</td><td>1</td><td>2</td><td>2</td><td>i</td><td>17</td></tr>",
                            "<tr><td>Szarvas Hotel</td><td>Nem</td><td>264</td><td>2</td><td>3</td><td>0</td><td>i</td><td>17</td></tr>",
                            "<tr><td>Szarvas Hotel</td><td>Nem</td><td>265</td><td>3</td><td>3</td><td>0</td><td>i</td><td>17</td></tr>",
                            "<tr><td>Szarvas Hotel</td><td>Nem</td><td>266</td><td>4</td><td>2</td><td>1</td><td>i</td><td>17</td></tr>",
                            "<tr><td>Szarvas Hotel</td><td>Nem</td><td>267</td><td>5</td><td>2</td><td>1</td><td>n</td><td>17</td></tr>",
                            "<tr><td>Szarvas Hotel</td><td>Nem</td><td>268</td><td>6</td><td>2</td><td>2</td><td>n</td><td>17</td></tr>",
                            "<tr><td>Szarvas Hotel</td><td>Nem</td><td>269</td><td>7</td><td>2</td><td>1</td><td>i</td><td>17</td></tr>",
                            "<tr><td>Szarvas Hotel</td><td>Nem</td><td>270</td><td>8</td><td>3</td><td>0</td><td>n</td><td>17</td></tr>",
                            "<tr><td>Szarvas Hotel</td><td>Nem</td><td>271</td><td>9</td><td>3</td><td>0</td><td>i</td><td>17</td></tr>",
                            "<tr><td>Szarvas Hotel</td><td>Nem</td><td>272</td><td>10</td><td>3</td><td>0</td><td>i</td><td>17</td></tr>",
                            "<tr><td>Szarvas Hotel</td><td>Nem</td><td>273</td><td>11</td><td>2</td><td>1</td><td>i</td><td>17</td></tr>",
                            "<tr><td>Szarvas Hotel</td><td>Nem</td><td>274</td><td>12</td><td>3</td><td>1</td><td>i</td><td>17</td></tr>",
                            "<tr><td>Szarvas Hotel</td><td>Nem</td><td>275</td><td>13</td><td>2</td><td>1</td><td>n</td><td>17</td></tr>",
                            "<tr><td>Szarvas Hotel</td><td>Nem</td><td>276</td><td>14</td><td>2</td><td>0</td><td>i</td><td>17</td></tr>",
                            "<tr><td>Szarvas Hotel</td><td>Nem</td><td>277</td><td>15</td><td>2</td><td>0</td><td>i</td><td>17</td></tr>",
                            "<tr><td>Fortuna Apartman</td><td>Nem</td><td>278</td><td>1</td><td>3</td><td>1</td><td>i</td><td>18</td></tr>",
                            "<tr><td>Fortuna Apartman</td><td>Nem</td><td>279</td><td>2</td><td>2</td><td>1</td><td>i</td><td>18</td></tr>",
                            "<tr><td>Fortuna Apartman</td><td>Nem</td><td>280</td><td>3</td><td>3</td><td>0</td><td>n</td><td>18</td></tr>",
                            "<tr><td>Nyárfás Vendégház</td><td>Nem</td><td>281</td><td>1</td><td>2</td><td>0</td><td>n</td><td>19</td></tr>",
                            "<tr><td>Nyárfás Vendégház</td><td>Nem</td><td>282</td><td>2</td><td>2</td><td>0</td><td>i</td><td>19</td></tr>",
                            "<tr><td>Nyárfás Vendégház</td><td>Nem</td><td>283</td><td>3</td><td>2</td><td>0</td><td>n</td><td>19</td></tr>",
                            "<tr><td>Nyárfás Vendégház</td><td>Nem</td><td>284</td><td>4</td><td>2</td><td>2</td><td>i</td><td>19</td></tr>",
                            "<tr><td>Kollégium</td><td>Nem</td><td>285</td><td>1</td><td>2</td><td>1</td><td>i</td><td>20</td></tr>",
                            "<tr><td>Kollégium</td><td>Nem</td><td>286</td><td>2</td><td>3</td><td>0</td><td>i</td><td>20</td></tr>",
                            "<tr><td>Kollégium</td><td>Nem</td><td>287</td><td>3</td><td>3</td><td>0</td><td>n</td><td>20</td></tr>",
                            "<tr><td>Kollégium</td><td>Nem</td><td>288</td><td>4</td><td>2</td><td>1</td><td>i</td><td>20</td></tr>",
                            "<tr><td>Kollégium</td><td>Nem</td><td>289</td><td>5</td><td>3</td><td>0</td><td>i</td><td>20</td></tr>",
                            "<tr><td>Kollégium</td><td>Nem</td><td>290</td><td>6</td><td>2</td><td>1</td><td>i</td><td>20</td></tr>",
                            "<tr><td>Kollégium</td><td>Nem</td><td>291</td><td>7</td><td>2</td><td>1</td><td>i</td><td>20</td></tr>",
                            "<tr><td>Kollégium</td><td>Nem</td><td>292</td><td>8</td><td>2</td><td>1</td><td>i</td><td>20</td></tr>",
                            "<tr><td>Kollégium</td><td>Nem</td><td>293</td><td>9</td><td>2</td><td>1</td><td>i</td><td>20</td></tr>",
                            "<tr><td>Kollégium</td><td>Nem</td><td>294</td><td>10</td><td>3</td><td>0</td><td>i</td><td>20</td></tr>",
                            "</table>"
                        ]
                    }
                }
            ],
            "execution_count": 42
        }
    ]
}