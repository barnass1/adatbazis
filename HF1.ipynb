{
    "metadata": {
        "kernelspec": {
            "name": "SQL",
            "display_name": "SQL",
            "language": "sql"
        },
        "language_info": {
            "name": "sql",
            "version": ""
        }
    },
    "nbformat_minor": 2,
    "nbformat": 4,
    "cells": [
        {
            "cell_type": "markdown",
            "source": [
                "Házi feladat"
            ],
            "metadata": {
                "azdata_cell_guid": "1dd812e2-4c90-4053-a3bf-394e7a613e4e"
            },
            "attachments": {}
        },
        {
            "cell_type": "code",
            "source": [
                ""
            ],
            "metadata": {
                "azdata_cell_guid": "1d2fdfbf-bcad-49da-85c6-a7ea01d33dbd",
                "language": "sql"
            },
            "outputs": [],
            "execution_count": null
        }
    ]
}