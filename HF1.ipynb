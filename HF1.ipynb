{
    "metadata": {
        "kernelspec": {
            "name": "SQL",
            "display_name": "SQL",
            "language": "sql"
        },
        "language_info": {
            "name": "sql",
            "version": ""
        }
    },
    "nbformat_minor": 2,
    "nbformat": 4,
    "cells": [
        {
            "cell_type": "markdown",
            "source": [
                "Házi feladat"
            ],
            "metadata": {
                "azdata_cell_guid": "1dd812e2-4c90-4053-a3bf-394e7a613e4e"
            },
            "attachments": {}
        },
        {
            "cell_type": "code",
            "source": [
                "SELECT  MhelyId,\n",
                "        allas,\n",
                "        oradij\n",
                "FROM munka\n",
                "WHERE DiakAz IS NULL\n",
                "ORDER BY MhelyId ASC"
            ],
            "metadata": {
                "azdata_cell_guid": "1d2fdfbf-bcad-49da-85c6-a7ea01d33dbd",
                "language": "sql"
            },
            "outputs": [
                {
                    "output_type": "display_data",
                    "data": {
                        "text/html": "(10 rows affected)"
                    },
                    "metadata": {}
                },
                {
                    "output_type": "display_data",
                    "data": {
                        "text/html": "Total execution time: 00:00:00.022"
                    },
                    "metadata": {}
                },
                {
                    "output_type": "execute_result",
                    "metadata": {},
                    "execution_count": 27,
                    "data": {
                        "application/vnd.dataresource+json": {
                            "schema": {
                                "fields": [
                                    {
                                        "name": "MhelyId"
                                    },
                                    {
                                        "name": "allas"
                                    },
                                    {
                                        "name": "oradij"
                                    }
                                ]
                            },
                            "data": [
                                {
                                    "MhelyId": "2",
                                    "allas": "eladó",
                                    "oradij": "400"
                                },
                                {
                                    "MhelyId": "4",
                                    "allas": "raktáros",
                                    "oradij": "300"
                                },
                                {
                                    "MhelyId": "4",
                                    "allas": "raktáros",
                                    "oradij": "300"
                                },
                                {
                                    "MhelyId": "4",
                                    "allas": "raktáros",
                                    "oradij": "300"
                                },
                                {
                                    "MhelyId": "7",
                                    "allas": "ruhatáros",
                                    "oradij": "200"
                                },
                                {
                                    "MhelyId": "7",
                                    "allas": "ruhatáros",
                                    "oradij": "200"
                                },
                                {
                                    "MhelyId": "9",
                                    "allas": "kisegítő",
                                    "oradij": "300"
                                },
                                {
                                    "MhelyId": "10",
                                    "allas": "takarító",
                                    "oradij": "250"
                                },
                                {
                                    "MhelyId": "10",
                                    "allas": "takarító",
                                    "oradij": "250"
                                },
                                {
                                    "MhelyId": "11",
                                    "allas": "eladó",
                                    "oradij": "400"
                                }
                            ]
                        },
                        "text/html": [
                            "<table>",
                            "<tr><th>MhelyId</th><th>allas</th><th>oradij</th></tr>",
                            "<tr><td>2</td><td>eladó</td><td>400</td></tr>",
                            "<tr><td>4</td><td>raktáros</td><td>300</td></tr>",
                            "<tr><td>4</td><td>raktáros</td><td>300</td></tr>",
                            "<tr><td>4</td><td>raktáros</td><td>300</td></tr>",
                            "<tr><td>7</td><td>ruhatáros</td><td>200</td></tr>",
                            "<tr><td>7</td><td>ruhatáros</td><td>200</td></tr>",
                            "<tr><td>9</td><td>kisegítő</td><td>300</td></tr>",
                            "<tr><td>10</td><td>takarító</td><td>250</td></tr>",
                            "<tr><td>10</td><td>takarító</td><td>250</td></tr>",
                            "<tr><td>11</td><td>eladó</td><td>400</td></tr>",
                            "</table>"
                        ]
                    }
                }
            ],
            "execution_count": 27
        },
        {
            "cell_type": "code",
            "source": [
                "SELECT  IIF(kozepiskolas = 1, 'Igen', 'Nem') AS 'Középiskolások-e?', \n",
                "        COUNT(*) AS 'Száma'\n",
                "FROM munka\n",
                "GROUP BY IIF(kozepiskolas = 1, 'Igen', 'Nem')\n",
                ""
            ],
            "metadata": {
                "azdata_cell_guid": "29b808f6-f776-4d9a-a079-7dca3e1a0bbd",
                "language": "sql"
            },
            "outputs": [
                {
                    "output_type": "display_data",
                    "data": {
                        "text/html": "(2 rows affected)"
                    },
                    "metadata": {}
                },
                {
                    "output_type": "display_data",
                    "data": {
                        "text/html": "Total execution time: 00:00:00.054"
                    },
                    "metadata": {}
                },
                {
                    "output_type": "execute_result",
                    "metadata": {
                        "azdata_chartOptions": {
                            "type": "pie",
                            "dataDirection": "vertical",
                            "columnsAsLabels": true,
                            "labelFirstColumn": false,
                            "legendPosition": "top"
                        }
                    },
                    "execution_count": 21,
                    "data": {
                        "application/vnd.dataresource+json": {
                            "schema": {
                                "fields": [
                                    {
                                        "name": "Középiskolások-e?"
                                    },
                                    {
                                        "name": "Száma"
                                    }
                                ]
                            },
                            "data": [
                                {
                                    "Középiskolások-e?": "Igen",
                                    "Száma": "16"
                                },
                                {
                                    "Középiskolások-e?": "Nem",
                                    "Száma": "25"
                                }
                            ]
                        },
                        "text/html": [
                            "<table>",
                            "<tr><th>Középiskolások-e?</th><th>Száma</th></tr>",
                            "<tr><td>Igen</td><td>16</td></tr>",
                            "<tr><td>Nem</td><td>25</td></tr>",
                            "</table>"
                        ]
                    }
                }
            ],
            "execution_count": 21
        }
    ]
}