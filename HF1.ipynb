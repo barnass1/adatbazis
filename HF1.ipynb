{
    "metadata": {
        "kernelspec": {
            "name": "SQL",
            "display_name": "SQL",
            "language": "sql"
        },
        "language_info": {
            "name": "sql",
            "version": ""
        }
    },
    "nbformat_minor": 2,
    "nbformat": 4,
    "cells": [
        {
            "cell_type": "markdown",
            "source": [
                "Házi feladat"
            ],
            "metadata": {
                "azdata_cell_guid": "1dd812e2-4c90-4053-a3bf-394e7a613e4e"
            },
            "attachments": {}
        },
        {
            "cell_type": "code",
            "source": [
                "SELECT  MhelyId,\n",
                "        allas,\n",
                "        oradij\n",
                "FROM munka\n",
                "WHERE DiakAz IS NULL\n",
                "ORDER BY MhelyId ASC"
            ],
            "metadata": {
                "azdata_cell_guid": "1d2fdfbf-bcad-49da-85c6-a7ea01d33dbd",
                "language": "sql"
            },
            "outputs": [
                {
                    "output_type": "display_data",
                    "data": {
                        "text/html": "(10 rows affected)"
                    },
                    "metadata": {}
                },
                {
                    "output_type": "display_data",
                    "data": {
                        "text/html": "Total execution time: 00:00:00.022"
                    },
                    "metadata": {}
                },
                {
                    "output_type": "execute_result",
                    "execution_count": 27,
                    "data": {
                        "application/vnd.dataresource+json": {
                            "schema": {
                                "fields": [
                                    {
                                        "name": "MhelyId"
                                    },
                                    {
                                        "name": "allas"
                                    },
                                    {
                                        "name": "oradij"
                                    }
                                ]
                            },
                            "data": [
                                {
                                    "MhelyId": "2",
                                    "allas": "eladó",
                                    "oradij": "400"
                                },
                                {
                                    "MhelyId": "4",
                                    "allas": "raktáros",
                                    "oradij": "300"
                                },
                                {
                                    "MhelyId": "4",
                                    "allas": "raktáros",
                                    "oradij": "300"
                                },
                                {
                                    "MhelyId": "4",
                                    "allas": "raktáros",
                                    "oradij": "300"
                                },
                                {
                                    "MhelyId": "7",
                                    "allas": "ruhatáros",
                                    "oradij": "200"
                                },
                                {
                                    "MhelyId": "7",
                                    "allas": "ruhatáros",
                                    "oradij": "200"
                                },
                                {
                                    "MhelyId": "9",
                                    "allas": "kisegítő",
                                    "oradij": "300"
                                },
                                {
                                    "MhelyId": "10",
                                    "allas": "takarító",
                                    "oradij": "250"
                                },
                                {
                                    "MhelyId": "10",
                                    "allas": "takarító",
                                    "oradij": "250"
                                },
                                {
                                    "MhelyId": "11",
                                    "allas": "eladó",
                                    "oradij": "400"
                                }
                            ]
                        },
                        "text/html": "<table><tr><th>MhelyId</th><th>allas</th><th>oradij</th></tr><tr><td>2</td><td>eladó</td><td>400</td></tr><tr><td>4</td><td>raktáros</td><td>300</td></tr><tr><td>4</td><td>raktáros</td><td>300</td></tr><tr><td>4</td><td>raktáros</td><td>300</td></tr><tr><td>7</td><td>ruhatáros</td><td>200</td></tr><tr><td>7</td><td>ruhatáros</td><td>200</td></tr><tr><td>9</td><td>kisegítő</td><td>300</td></tr><tr><td>10</td><td>takarító</td><td>250</td></tr><tr><td>10</td><td>takarító</td><td>250</td></tr><tr><td>11</td><td>eladó</td><td>400</td></tr></table>"
                    },
                    "metadata": {}
                }
            ],
            "execution_count": 27
        },
        {
            "cell_type": "code",
            "source": [
                "SELECT  allas,\n",
                "        COUNT(allas) AS 'Mennyiség'\n",
                "FROM munka\n",
                "GROUP BY allas\n",
                "ORDER BY COUNT(allas) ASC"
            ],
            "metadata": {
                "azdata_cell_guid": "0e70dd3f-b4d3-4c89-bf8a-ee01196bf223",
                "language": "sql",
                "tags": []
            },
            "outputs": [
                {
                    "output_type": "display_data",
                    "data": {
                        "text/html": "(9 rows affected)"
                    },
                    "metadata": {}
                },
                {
                    "output_type": "display_data",
                    "data": {
                        "text/html": "Total execution time: 00:00:00.011"
                    },
                    "metadata": {}
                },
                {
                    "output_type": "execute_result",
                    "execution_count": 32,
                    "data": {
                        "application/vnd.dataresource+json": {
                            "schema": {
                                "fields": [
                                    {
                                        "name": "allas"
                                    },
                                    {
                                        "name": "Mennyiség"
                                    }
                                ]
                            },
                            "data": [
                                {
                                    "allas": "futár",
                                    "Mennyiség": "1"
                                },
                                {
                                    "allas": "ügyfélszolgálati munkatárs",
                                    "Mennyiség": "1"
                                },
                                {
                                    "allas": "kézbesítő",
                                    "Mennyiség": "2"
                                },
                                {
                                    "allas": "pincér",
                                    "Mennyiség": "2"
                                },
                                {
                                    "allas": "raktáros",
                                    "Mennyiség": "4"
                                },
                                {
                                    "allas": "kisegítő",
                                    "Mennyiség": "4"
                                },
                                {
                                    "allas": "ruhatáros",
                                    "Mennyiség": "6"
                                },
                                {
                                    "allas": "takarító",
                                    "Mennyiség": "9"
                                },
                                {
                                    "allas": "eladó",
                                    "Mennyiség": "12"
                                }
                            ]
                        },
                        "text/html": "<table><tr><th>allas</th><th>Mennyiség</th></tr><tr><td>futár</td><td>1</td></tr><tr><td>ügyfélszolgálati munkatárs</td><td>1</td></tr><tr><td>kézbesítő</td><td>2</td></tr><tr><td>pincér</td><td>2</td></tr><tr><td>raktáros</td><td>4</td></tr><tr><td>kisegítő</td><td>4</td></tr><tr><td>ruhatáros</td><td>6</td></tr><tr><td>takarító</td><td>9</td></tr><tr><td>eladó</td><td>12</td></tr></table>"
                    },
                    "metadata": {}
                }
            ],
            "execution_count": 32
        },
        {
            "cell_type": "code",
            "source": [
                "SELECT  IIF(kozepiskolas = 1, 'Igen', 'Nem') AS 'Középiskolások-e?', \n",
                "        COUNT(*) AS 'Száma'\n",
                "FROM munka\n",
                "GROUP BY IIF(kozepiskolas = 1, 'Igen', 'Nem')\n",
                ""
            ],
            "metadata": {
                "azdata_cell_guid": "29b808f6-f776-4d9a-a079-7dca3e1a0bbd",
                "language": "sql"
            },
            "outputs": [
                {
                    "output_type": "display_data",
                    "data": {
                        "text/html": "(2 rows affected)"
                    },
                    "metadata": {}
                },
                {
                    "output_type": "display_data",
                    "data": {
                        "text/html": "Total execution time: 00:00:00.054"
                    },
                    "metadata": {}
                },
                {
                    "output_type": "execute_result",
                    "execution_count": 21,
                    "data": {
                        "application/vnd.dataresource+json": {
                            "schema": {
                                "fields": [
                                    {
                                        "name": "Középiskolások-e?"
                                    },
                                    {
                                        "name": "Száma"
                                    }
                                ]
                            },
                            "data": [
                                {
                                    "Középiskolások-e?": "Igen",
                                    "Száma": "16"
                                },
                                {
                                    "Középiskolások-e?": "Nem",
                                    "Száma": "25"
                                }
                            ]
                        },
                        "text/html": "<table><tr><th>Középiskolások-e?</th><th>Száma</th></tr><tr><td>Igen</td><td>16</td></tr><tr><td>Nem</td><td>25</td></tr></table>"
                    },
                    "metadata": {
                        "azdata_chartOptions": {
                            "type": "pie",
                            "dataDirection": "vertical",
                            "columnsAsLabels": true,
                            "labelFirstColumn": false,
                            "legendPosition": "top"
                        }
                    }
                }
            ],
            "execution_count": 21
        },
        {
            "cell_type": "code",
            "source": [
                "SELECT  oradij,\n",
                "        COUNT(oradij) AS 'Órabérek eloszlása'\n",
                "FROM munka\n",
                "GROUP BY oradij\n",
                "ORDER BY COUNT(allas)"
            ],
            "metadata": {
                "azdata_cell_guid": "fcf00a88-d63f-4710-a5bf-7159c761a7e4",
                "language": "sql"
            },
            "outputs": [
                {
                    "output_type": "display_data",
                    "data": {
                        "text/html": "(7 rows affected)"
                    },
                    "metadata": {}
                },
                {
                    "output_type": "display_data",
                    "data": {
                        "text/html": "Total execution time: 00:00:00.168"
                    },
                    "metadata": {}
                },
                {
                    "output_type": "execute_result",
                    "execution_count": 39,
                    "data": {
                        "application/vnd.dataresource+json": {
                            "schema": {
                                "fields": [
                                    {
                                        "name": "oradij"
                                    },
                                    {
                                        "name": "Órabérek eloszlása"
                                    }
                                ]
                            },
                            "data": [
                                {
                                    "oradij": "250",
                                    "Órabérek eloszlása": "2"
                                },
                                {
                                    "oradij": "350",
                                    "Órabérek eloszlása": "3"
                                },
                                {
                                    "oradij": "450",
                                    "Órabérek eloszlása": "3"
                                },
                                {
                                    "oradij": "500",
                                    "Órabérek eloszlása": "3"
                                },
                                {
                                    "oradij": "200",
                                    "Órabérek eloszlása": "4"
                                },
                                {
                                    "oradij": "400",
                                    "Órabérek eloszlása": "12"
                                },
                                {
                                    "oradij": "300",
                                    "Órabérek eloszlása": "14"
                                }
                            ]
                        },
                        "text/html": "<table><tr><th>oradij</th><th>Órabérek eloszlása</th></tr><tr><td>250</td><td>2</td></tr><tr><td>350</td><td>3</td></tr><tr><td>450</td><td>3</td></tr><tr><td>500</td><td>3</td></tr><tr><td>200</td><td>4</td></tr><tr><td>400</td><td>12</td></tr><tr><td>300</td><td>14</td></tr></table>"
                    },
                    "metadata": {
                        "azdata_chartOptions": {
                            "type": "bar",
                            "dataDirection": "horizontal",
                            "columnsAsLabels": true,
                            "labelFirstColumn": true,
                            "legendPosition": "top",
                            "yAxisMin": 1,
                            "yAxisMax": 15
                        }
                    }
                }
            ],
            "execution_count": 39
        },
        {
            "cell_type": "code",
            "source": [
                "SELECT  allas,\n",
                "        AVG(oraszam) AS 'Átlagos óraszám'\n",
                "FROM munka\n",
                "GROUP BY allas"
            ],
            "metadata": {
                "azdata_cell_guid": "173bcf16-84f1-4d9e-a3c4-b0316f56c062",
                "language": "sql"
            },
            "outputs": [
                {
                    "output_type": "display_data",
                    "data": {
                        "text/html": "(9 rows affected)"
                    },
                    "metadata": {}
                },
                {
                    "output_type": "display_data",
                    "data": {
                        "text/html": "Total execution time: 00:00:00.010"
                    },
                    "metadata": {}
                },
                {
                    "output_type": "execute_result",
                    "execution_count": 3,
                    "data": {
                        "application/vnd.dataresource+json": {
                            "schema": {
                                "fields": [
                                    {
                                        "name": "allas"
                                    },
                                    {
                                        "name": "átlagos óraszám"
                                    }
                                ]
                            },
                            "data": [
                                {
                                    "allas": "eladó",
                                    "átlagos óraszám": "4"
                                },
                                {
                                    "allas": "futár",
                                    "átlagos óraszám": "5"
                                },
                                {
                                    "allas": "kézbesítő",
                                    "átlagos óraszám": "5"
                                },
                                {
                                    "allas": "kisegítő",
                                    "átlagos óraszám": "5"
                                },
                                {
                                    "allas": "pincér",
                                    "átlagos óraszám": "6"
                                },
                                {
                                    "allas": "raktáros",
                                    "átlagos óraszám": "5"
                                },
                                {
                                    "allas": "ruhatáros",
                                    "átlagos óraszám": "4"
                                },
                                {
                                    "allas": "takarító",
                                    "átlagos óraszám": "4"
                                },
                                {
                                    "allas": "ügyfélszolgálati munkatárs",
                                    "átlagos óraszám": "4"
                                }
                            ]
                        },
                        "text/html": "<table><tr><th>allas</th><th>átlagos óraszám</th></tr><tr><td>eladó</td><td>4</td></tr><tr><td>futár</td><td>5</td></tr><tr><td>kézbesítő</td><td>5</td></tr><tr><td>kisegítő</td><td>5</td></tr><tr><td>pincér</td><td>6</td></tr><tr><td>raktáros</td><td>5</td></tr><tr><td>ruhatáros</td><td>4</td></tr><tr><td>takarító</td><td>4</td></tr><tr><td>ügyfélszolgálati munkatárs</td><td>4</td></tr></table>"
                    },
                    "metadata": {
                        "azdata_chartOptions": {
                            "type": "pie",
                            "dataDirection": "vertical",
                            "columnsAsLabels": true,
                            "labelFirstColumn": false,
                            "legendPosition": "top"
                        }
                    }
                }
            ],
            "execution_count": 3
        },
        {
            "cell_type": "code",
            "source": [
                "SELECT  MhelyId,\n",
                "        COUNT(MhelyId) AS 'Dolgozók száma'\n",
                "FROM munka\n",
                "GROUP BY MhelyId"
            ],
            "metadata": {
                "azdata_cell_guid": "54836930-c13c-4d42-95a7-011b02a0b71a",
                "language": "sql"
            },
            "outputs": [
                {
                    "output_type": "display_data",
                    "data": {
                        "text/html": "(10 rows affected)"
                    },
                    "metadata": {}
                },
                {
                    "output_type": "display_data",
                    "data": {
                        "text/html": "Total execution time: 00:00:00.017"
                    },
                    "metadata": {}
                },
                {
                    "output_type": "execute_result",
                    "execution_count": 7,
                    "data": {
                        "application/vnd.dataresource+json": {
                            "schema": {
                                "fields": [
                                    {
                                        "name": "MhelyId"
                                    },
                                    {
                                        "name": "(No column name)"
                                    }
                                ]
                            },
                            "data": [
                                {
                                    "MhelyId": "1",
                                    "(No column name)": "4"
                                },
                                {
                                    "MhelyId": "2",
                                    "(No column name)": "3"
                                },
                                {
                                    "MhelyId": "4",
                                    "(No column name)": "3"
                                },
                                {
                                    "MhelyId": "5",
                                    "(No column name)": "3"
                                },
                                {
                                    "MhelyId": "6",
                                    "(No column name)": "4"
                                },
                                {
                                    "MhelyId": "7",
                                    "(No column name)": "4"
                                },
                                {
                                    "MhelyId": "8",
                                    "(No column name)": "4"
                                },
                                {
                                    "MhelyId": "9",
                                    "(No column name)": "6"
                                },
                                {
                                    "MhelyId": "10",
                                    "(No column name)": "6"
                                },
                                {
                                    "MhelyId": "11",
                                    "(No column name)": "4"
                                }
                            ]
                        },
                        "text/html": "<table><tr><th>MhelyId</th><th>(No column name)</th></tr><tr><td>1</td><td>4</td></tr><tr><td>2</td><td>3</td></tr><tr><td>4</td><td>3</td></tr><tr><td>5</td><td>3</td></tr><tr><td>6</td><td>4</td></tr><tr><td>7</td><td>4</td></tr><tr><td>8</td><td>4</td></tr><tr><td>9</td><td>6</td></tr><tr><td>10</td><td>6</td></tr><tr><td>11</td><td>4</td></tr></table>"
                    },
                    "metadata": {}
                }
            ],
            "execution_count": 7
        }
    ]
}