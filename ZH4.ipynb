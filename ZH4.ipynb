{
    "metadata": {
        "kernelspec": {
            "name": "SQL",
            "display_name": "SQL",
            "language": "sql"
        },
        "language_info": {
            "name": "sql",
            "version": ""
        }
    },
    "nbformat_minor": 2,
    "nbformat": 4,
    "cells": [
        {
            "cell_type": "markdown",
            "source": [
                "ZH3 Medve Barnabás EM9NYU"
            ],
            "metadata": {
                "azdata_cell_guid": "8925a3e7-ca53-48d8-9724-5da60afb35d3"
            },
            "attachments": {}
        },
        {
            "cell_type": "markdown",
            "source": [
                "1\\. feladat"
            ],
            "metadata": {
                "azdata_cell_guid": "a36b8ced-e156-4174-a1bb-1a0cff4dc3fb"
            },
            "attachments": {}
        },
        {
            "cell_type": "code",
            "source": [
                "SELECT  sz.SZOBA_ID,\r\n",
                "        ISNULL(COUNT(f.SZOBA_FK), 0) AS FOGALALASOK_SZAMA\r\n",
                "FROM Szoba sz\r\n",
                "LEFT JOIN Foglalas f ON sz.SZOBA_ID = f.SZOBA_FK\r\n",
                "GROUP BY sz.SZOBA_ID\r\n",
                "ORDER BY sz.SZOBA_ID;\r\n",
                ""
            ],
            "metadata": {
                "azdata_cell_guid": "ba5fcaf0-1926-4582-ab67-c75b3e81ec78",
                "language": "sql",
                "tags": [
                    "hide_input"
                ]
            },
            "outputs": [
                {
                    "output_type": "display_data",
                    "data": {
                        "text/html": "(294 rows affected)"
                    },
                    "metadata": {}
                },
                {
                    "output_type": "display_data",
                    "data": {
                        "text/html": "Total execution time: 00:00:00.054"
                    },
                    "metadata": {}
                },
                {
                    "output_type": "execute_result",
                    "metadata": {},
                    "execution_count": 1,
                    "data": {
                        "application/vnd.dataresource+json": {
                            "schema": {
                                "fields": [
                                    {
                                        "name": "SZOBA_ID"
                                    },
                                    {
                                        "name": "FOGALALASOK_SZAMA"
                                    }
                                ]
                            },
                            "data": [
                                {
                                    "SZOBA_ID": "1",
                                    "FOGALALASOK_SZAMA": "8"
                                },
                                {
                                    "SZOBA_ID": "2",
                                    "FOGALALASOK_SZAMA": "4"
                                },
                                {
                                    "SZOBA_ID": "3",
                                    "FOGALALASOK_SZAMA": "8"
                                },
                                {
                                    "SZOBA_ID": "4",
                                    "FOGALALASOK_SZAMA": "6"
                                },
                                {
                                    "SZOBA_ID": "5",
                                    "FOGALALASOK_SZAMA": "4"
                                },
                                {
                                    "SZOBA_ID": "6",
                                    "FOGALALASOK_SZAMA": "6"
                                },
                                {
                                    "SZOBA_ID": "7",
                                    "FOGALALASOK_SZAMA": "6"
                                },
                                {
                                    "SZOBA_ID": "8",
                                    "FOGALALASOK_SZAMA": "5"
                                },
                                {
                                    "SZOBA_ID": "9",
                                    "FOGALALASOK_SZAMA": "6"
                                },
                                {
                                    "SZOBA_ID": "10",
                                    "FOGALALASOK_SZAMA": "4"
                                },
                                {
                                    "SZOBA_ID": "11",
                                    "FOGALALASOK_SZAMA": "4"
                                },
                                {
                                    "SZOBA_ID": "12",
                                    "FOGALALASOK_SZAMA": "9"
                                },
                                {
                                    "SZOBA_ID": "13",
                                    "FOGALALASOK_SZAMA": "4"
                                },
                                {
                                    "SZOBA_ID": "14",
                                    "FOGALALASOK_SZAMA": "3"
                                },
                                {
                                    "SZOBA_ID": "15",
                                    "FOGALALASOK_SZAMA": "6"
                                },
                                {
                                    "SZOBA_ID": "16",
                                    "FOGALALASOK_SZAMA": "5"
                                },
                                {
                                    "SZOBA_ID": "17",
                                    "FOGALALASOK_SZAMA": "6"
                                },
                                {
                                    "SZOBA_ID": "18",
                                    "FOGALALASOK_SZAMA": "6"
                                },
                                {
                                    "SZOBA_ID": "19",
                                    "FOGALALASOK_SZAMA": "6"
                                },
                                {
                                    "SZOBA_ID": "20",
                                    "FOGALALASOK_SZAMA": "5"
                                },
                                {
                                    "SZOBA_ID": "21",
                                    "FOGALALASOK_SZAMA": "4"
                                },
                                {
                                    "SZOBA_ID": "22",
                                    "FOGALALASOK_SZAMA": "6"
                                },
                                {
                                    "SZOBA_ID": "23",
                                    "FOGALALASOK_SZAMA": "3"
                                },
                                {
                                    "SZOBA_ID": "24",
                                    "FOGALALASOK_SZAMA": "3"
                                },
                                {
                                    "SZOBA_ID": "25",
                                    "FOGALALASOK_SZAMA": "2"
                                },
                                {
                                    "SZOBA_ID": "26",
                                    "FOGALALASOK_SZAMA": "2"
                                },
                                {
                                    "SZOBA_ID": "27",
                                    "FOGALALASOK_SZAMA": "7"
                                },
                                {
                                    "SZOBA_ID": "28",
                                    "FOGALALASOK_SZAMA": "6"
                                },
                                {
                                    "SZOBA_ID": "29",
                                    "FOGALALASOK_SZAMA": "6"
                                },
                                {
                                    "SZOBA_ID": "30",
                                    "FOGALALASOK_SZAMA": "3"
                                },
                                {
                                    "SZOBA_ID": "31",
                                    "FOGALALASOK_SZAMA": "3"
                                },
                                {
                                    "SZOBA_ID": "32",
                                    "FOGALALASOK_SZAMA": "1"
                                },
                                {
                                    "SZOBA_ID": "33",
                                    "FOGALALASOK_SZAMA": "6"
                                },
                                {
                                    "SZOBA_ID": "34",
                                    "FOGALALASOK_SZAMA": "4"
                                },
                                {
                                    "SZOBA_ID": "35",
                                    "FOGALALASOK_SZAMA": "9"
                                },
                                {
                                    "SZOBA_ID": "36",
                                    "FOGALALASOK_SZAMA": "6"
                                },
                                {
                                    "SZOBA_ID": "37",
                                    "FOGALALASOK_SZAMA": "3"
                                },
                                {
                                    "SZOBA_ID": "38",
                                    "FOGALALASOK_SZAMA": "8"
                                },
                                {
                                    "SZOBA_ID": "39",
                                    "FOGALALASOK_SZAMA": "7"
                                },
                                {
                                    "SZOBA_ID": "40",
                                    "FOGALALASOK_SZAMA": "4"
                                },
                                {
                                    "SZOBA_ID": "41",
                                    "FOGALALASOK_SZAMA": "2"
                                },
                                {
                                    "SZOBA_ID": "42",
                                    "FOGALALASOK_SZAMA": "6"
                                },
                                {
                                    "SZOBA_ID": "43",
                                    "FOGALALASOK_SZAMA": "8"
                                },
                                {
                                    "SZOBA_ID": "44",
                                    "FOGALALASOK_SZAMA": "6"
                                },
                                {
                                    "SZOBA_ID": "45",
                                    "FOGALALASOK_SZAMA": "5"
                                },
                                {
                                    "SZOBA_ID": "46",
                                    "FOGALALASOK_SZAMA": "4"
                                },
                                {
                                    "SZOBA_ID": "47",
                                    "FOGALALASOK_SZAMA": "2"
                                },
                                {
                                    "SZOBA_ID": "48",
                                    "FOGALALASOK_SZAMA": "9"
                                },
                                {
                                    "SZOBA_ID": "49",
                                    "FOGALALASOK_SZAMA": "7"
                                },
                                {
                                    "SZOBA_ID": "50",
                                    "FOGALALASOK_SZAMA": "4"
                                },
                                {
                                    "SZOBA_ID": "51",
                                    "FOGALALASOK_SZAMA": "5"
                                },
                                {
                                    "SZOBA_ID": "52",
                                    "FOGALALASOK_SZAMA": "5"
                                },
                                {
                                    "SZOBA_ID": "53",
                                    "FOGALALASOK_SZAMA": "2"
                                },
                                {
                                    "SZOBA_ID": "54",
                                    "FOGALALASOK_SZAMA": "6"
                                },
                                {
                                    "SZOBA_ID": "55",
                                    "FOGALALASOK_SZAMA": "8"
                                },
                                {
                                    "SZOBA_ID": "56",
                                    "FOGALALASOK_SZAMA": "2"
                                },
                                {
                                    "SZOBA_ID": "57",
                                    "FOGALALASOK_SZAMA": "4"
                                },
                                {
                                    "SZOBA_ID": "58",
                                    "FOGALALASOK_SZAMA": "13"
                                },
                                {
                                    "SZOBA_ID": "59",
                                    "FOGALALASOK_SZAMA": "7"
                                },
                                {
                                    "SZOBA_ID": "60",
                                    "FOGALALASOK_SZAMA": "1"
                                },
                                {
                                    "SZOBA_ID": "61",
                                    "FOGALALASOK_SZAMA": "5"
                                },
                                {
                                    "SZOBA_ID": "62",
                                    "FOGALALASOK_SZAMA": "5"
                                },
                                {
                                    "SZOBA_ID": "63",
                                    "FOGALALASOK_SZAMA": "4"
                                },
                                {
                                    "SZOBA_ID": "64",
                                    "FOGALALASOK_SZAMA": "6"
                                },
                                {
                                    "SZOBA_ID": "65",
                                    "FOGALALASOK_SZAMA": "1"
                                },
                                {
                                    "SZOBA_ID": "66",
                                    "FOGALALASOK_SZAMA": "4"
                                },
                                {
                                    "SZOBA_ID": "67",
                                    "FOGALALASOK_SZAMA": "6"
                                },
                                {
                                    "SZOBA_ID": "68",
                                    "FOGALALASOK_SZAMA": "3"
                                },
                                {
                                    "SZOBA_ID": "69",
                                    "FOGALALASOK_SZAMA": "4"
                                },
                                {
                                    "SZOBA_ID": "70",
                                    "FOGALALASOK_SZAMA": "11"
                                },
                                {
                                    "SZOBA_ID": "71",
                                    "FOGALALASOK_SZAMA": "3"
                                },
                                {
                                    "SZOBA_ID": "72",
                                    "FOGALALASOK_SZAMA": "4"
                                },
                                {
                                    "SZOBA_ID": "73",
                                    "FOGALALASOK_SZAMA": "4"
                                },
                                {
                                    "SZOBA_ID": "74",
                                    "FOGALALASOK_SZAMA": "9"
                                },
                                {
                                    "SZOBA_ID": "75",
                                    "FOGALALASOK_SZAMA": "3"
                                },
                                {
                                    "SZOBA_ID": "76",
                                    "FOGALALASOK_SZAMA": "3"
                                },
                                {
                                    "SZOBA_ID": "77",
                                    "FOGALALASOK_SZAMA": "6"
                                },
                                {
                                    "SZOBA_ID": "78",
                                    "FOGALALASOK_SZAMA": "6"
                                },
                                {
                                    "SZOBA_ID": "79",
                                    "FOGALALASOK_SZAMA": "5"
                                },
                                {
                                    "SZOBA_ID": "80",
                                    "FOGALALASOK_SZAMA": "7"
                                },
                                {
                                    "SZOBA_ID": "81",
                                    "FOGALALASOK_SZAMA": "5"
                                },
                                {
                                    "SZOBA_ID": "82",
                                    "FOGALALASOK_SZAMA": "6"
                                },
                                {
                                    "SZOBA_ID": "83",
                                    "FOGALALASOK_SZAMA": "8"
                                },
                                {
                                    "SZOBA_ID": "84",
                                    "FOGALALASOK_SZAMA": "4"
                                },
                                {
                                    "SZOBA_ID": "85",
                                    "FOGALALASOK_SZAMA": "4"
                                },
                                {
                                    "SZOBA_ID": "86",
                                    "FOGALALASOK_SZAMA": "5"
                                },
                                {
                                    "SZOBA_ID": "87",
                                    "FOGALALASOK_SZAMA": "5"
                                },
                                {
                                    "SZOBA_ID": "88",
                                    "FOGALALASOK_SZAMA": "8"
                                },
                                {
                                    "SZOBA_ID": "89",
                                    "FOGALALASOK_SZAMA": "8"
                                },
                                {
                                    "SZOBA_ID": "90",
                                    "FOGALALASOK_SZAMA": "4"
                                },
                                {
                                    "SZOBA_ID": "91",
                                    "FOGALALASOK_SZAMA": "4"
                                },
                                {
                                    "SZOBA_ID": "92",
                                    "FOGALALASOK_SZAMA": "6"
                                },
                                {
                                    "SZOBA_ID": "93",
                                    "FOGALALASOK_SZAMA": "5"
                                },
                                {
                                    "SZOBA_ID": "94",
                                    "FOGALALASOK_SZAMA": "10"
                                },
                                {
                                    "SZOBA_ID": "95",
                                    "FOGALALASOK_SZAMA": "4"
                                },
                                {
                                    "SZOBA_ID": "96",
                                    "FOGALALASOK_SZAMA": "7"
                                },
                                {
                                    "SZOBA_ID": "97",
                                    "FOGALALASOK_SZAMA": "7"
                                },
                                {
                                    "SZOBA_ID": "98",
                                    "FOGALALASOK_SZAMA": "4"
                                },
                                {
                                    "SZOBA_ID": "99",
                                    "FOGALALASOK_SZAMA": "5"
                                },
                                {
                                    "SZOBA_ID": "100",
                                    "FOGALALASOK_SZAMA": "4"
                                },
                                {
                                    "SZOBA_ID": "101",
                                    "FOGALALASOK_SZAMA": "3"
                                },
                                {
                                    "SZOBA_ID": "102",
                                    "FOGALALASOK_SZAMA": "2"
                                },
                                {
                                    "SZOBA_ID": "103",
                                    "FOGALALASOK_SZAMA": "4"
                                },
                                {
                                    "SZOBA_ID": "104",
                                    "FOGALALASOK_SZAMA": "4"
                                },
                                {
                                    "SZOBA_ID": "105",
                                    "FOGALALASOK_SZAMA": "2"
                                },
                                {
                                    "SZOBA_ID": "106",
                                    "FOGALALASOK_SZAMA": "6"
                                },
                                {
                                    "SZOBA_ID": "107",
                                    "FOGALALASOK_SZAMA": "5"
                                },
                                {
                                    "SZOBA_ID": "108",
                                    "FOGALALASOK_SZAMA": "2"
                                },
                                {
                                    "SZOBA_ID": "109",
                                    "FOGALALASOK_SZAMA": "7"
                                },
                                {
                                    "SZOBA_ID": "110",
                                    "FOGALALASOK_SZAMA": "8"
                                },
                                {
                                    "SZOBA_ID": "111",
                                    "FOGALALASOK_SZAMA": "5"
                                },
                                {
                                    "SZOBA_ID": "112",
                                    "FOGALALASOK_SZAMA": "5"
                                },
                                {
                                    "SZOBA_ID": "113",
                                    "FOGALALASOK_SZAMA": "5"
                                },
                                {
                                    "SZOBA_ID": "114",
                                    "FOGALALASOK_SZAMA": "4"
                                },
                                {
                                    "SZOBA_ID": "115",
                                    "FOGALALASOK_SZAMA": "7"
                                },
                                {
                                    "SZOBA_ID": "116",
                                    "FOGALALASOK_SZAMA": "2"
                                },
                                {
                                    "SZOBA_ID": "117",
                                    "FOGALALASOK_SZAMA": "8"
                                },
                                {
                                    "SZOBA_ID": "118",
                                    "FOGALALASOK_SZAMA": "7"
                                },
                                {
                                    "SZOBA_ID": "119",
                                    "FOGALALASOK_SZAMA": "5"
                                },
                                {
                                    "SZOBA_ID": "120",
                                    "FOGALALASOK_SZAMA": "6"
                                },
                                {
                                    "SZOBA_ID": "121",
                                    "FOGALALASOK_SZAMA": "8"
                                },
                                {
                                    "SZOBA_ID": "122",
                                    "FOGALALASOK_SZAMA": "9"
                                },
                                {
                                    "SZOBA_ID": "123",
                                    "FOGALALASOK_SZAMA": "5"
                                },
                                {
                                    "SZOBA_ID": "124",
                                    "FOGALALASOK_SZAMA": "6"
                                },
                                {
                                    "SZOBA_ID": "125",
                                    "FOGALALASOK_SZAMA": "1"
                                },
                                {
                                    "SZOBA_ID": "126",
                                    "FOGALALASOK_SZAMA": "6"
                                },
                                {
                                    "SZOBA_ID": "127",
                                    "FOGALALASOK_SZAMA": "7"
                                },
                                {
                                    "SZOBA_ID": "128",
                                    "FOGALALASOK_SZAMA": "5"
                                },
                                {
                                    "SZOBA_ID": "129",
                                    "FOGALALASOK_SZAMA": "4"
                                },
                                {
                                    "SZOBA_ID": "130",
                                    "FOGALALASOK_SZAMA": "6"
                                },
                                {
                                    "SZOBA_ID": "131",
                                    "FOGALALASOK_SZAMA": "5"
                                },
                                {
                                    "SZOBA_ID": "132",
                                    "FOGALALASOK_SZAMA": "6"
                                },
                                {
                                    "SZOBA_ID": "133",
                                    "FOGALALASOK_SZAMA": "6"
                                },
                                {
                                    "SZOBA_ID": "134",
                                    "FOGALALASOK_SZAMA": "6"
                                },
                                {
                                    "SZOBA_ID": "135",
                                    "FOGALALASOK_SZAMA": "3"
                                },
                                {
                                    "SZOBA_ID": "136",
                                    "FOGALALASOK_SZAMA": "3"
                                },
                                {
                                    "SZOBA_ID": "137",
                                    "FOGALALASOK_SZAMA": "6"
                                },
                                {
                                    "SZOBA_ID": "138",
                                    "FOGALALASOK_SZAMA": "7"
                                },
                                {
                                    "SZOBA_ID": "139",
                                    "FOGALALASOK_SZAMA": "7"
                                },
                                {
                                    "SZOBA_ID": "140",
                                    "FOGALALASOK_SZAMA": "8"
                                },
                                {
                                    "SZOBA_ID": "141",
                                    "FOGALALASOK_SZAMA": "6"
                                },
                                {
                                    "SZOBA_ID": "142",
                                    "FOGALALASOK_SZAMA": "2"
                                },
                                {
                                    "SZOBA_ID": "143",
                                    "FOGALALASOK_SZAMA": "7"
                                },
                                {
                                    "SZOBA_ID": "144",
                                    "FOGALALASOK_SZAMA": "5"
                                },
                                {
                                    "SZOBA_ID": "145",
                                    "FOGALALASOK_SZAMA": "6"
                                },
                                {
                                    "SZOBA_ID": "146",
                                    "FOGALALASOK_SZAMA": "6"
                                },
                                {
                                    "SZOBA_ID": "147",
                                    "FOGALALASOK_SZAMA": "1"
                                },
                                {
                                    "SZOBA_ID": "148",
                                    "FOGALALASOK_SZAMA": "6"
                                },
                                {
                                    "SZOBA_ID": "149",
                                    "FOGALALASOK_SZAMA": "7"
                                },
                                {
                                    "SZOBA_ID": "150",
                                    "FOGALALASOK_SZAMA": "6"
                                },
                                {
                                    "SZOBA_ID": "151",
                                    "FOGALALASOK_SZAMA": "3"
                                },
                                {
                                    "SZOBA_ID": "152",
                                    "FOGALALASOK_SZAMA": "4"
                                },
                                {
                                    "SZOBA_ID": "153",
                                    "FOGALALASOK_SZAMA": "5"
                                },
                                {
                                    "SZOBA_ID": "154",
                                    "FOGALALASOK_SZAMA": "5"
                                },
                                {
                                    "SZOBA_ID": "155",
                                    "FOGALALASOK_SZAMA": "5"
                                },
                                {
                                    "SZOBA_ID": "156",
                                    "FOGALALASOK_SZAMA": "7"
                                },
                                {
                                    "SZOBA_ID": "157",
                                    "FOGALALASOK_SZAMA": "5"
                                },
                                {
                                    "SZOBA_ID": "158",
                                    "FOGALALASOK_SZAMA": "3"
                                },
                                {
                                    "SZOBA_ID": "159",
                                    "FOGALALASOK_SZAMA": "0"
                                },
                                {
                                    "SZOBA_ID": "160",
                                    "FOGALALASOK_SZAMA": "5"
                                },
                                {
                                    "SZOBA_ID": "161",
                                    "FOGALALASOK_SZAMA": "6"
                                },
                                {
                                    "SZOBA_ID": "162",
                                    "FOGALALASOK_SZAMA": "3"
                                },
                                {
                                    "SZOBA_ID": "163",
                                    "FOGALALASOK_SZAMA": "7"
                                },
                                {
                                    "SZOBA_ID": "164",
                                    "FOGALALASOK_SZAMA": "5"
                                },
                                {
                                    "SZOBA_ID": "165",
                                    "FOGALALASOK_SZAMA": "7"
                                },
                                {
                                    "SZOBA_ID": "166",
                                    "FOGALALASOK_SZAMA": "3"
                                },
                                {
                                    "SZOBA_ID": "167",
                                    "FOGALALASOK_SZAMA": "2"
                                },
                                {
                                    "SZOBA_ID": "168",
                                    "FOGALALASOK_SZAMA": "5"
                                },
                                {
                                    "SZOBA_ID": "169",
                                    "FOGALALASOK_SZAMA": "6"
                                },
                                {
                                    "SZOBA_ID": "170",
                                    "FOGALALASOK_SZAMA": "5"
                                },
                                {
                                    "SZOBA_ID": "171",
                                    "FOGALALASOK_SZAMA": "5"
                                },
                                {
                                    "SZOBA_ID": "172",
                                    "FOGALALASOK_SZAMA": "9"
                                },
                                {
                                    "SZOBA_ID": "173",
                                    "FOGALALASOK_SZAMA": "4"
                                },
                                {
                                    "SZOBA_ID": "174",
                                    "FOGALALASOK_SZAMA": "4"
                                },
                                {
                                    "SZOBA_ID": "175",
                                    "FOGALALASOK_SZAMA": "5"
                                },
                                {
                                    "SZOBA_ID": "176",
                                    "FOGALALASOK_SZAMA": "6"
                                },
                                {
                                    "SZOBA_ID": "177",
                                    "FOGALALASOK_SZAMA": "4"
                                },
                                {
                                    "SZOBA_ID": "178",
                                    "FOGALALASOK_SZAMA": "4"
                                },
                                {
                                    "SZOBA_ID": "179",
                                    "FOGALALASOK_SZAMA": "3"
                                },
                                {
                                    "SZOBA_ID": "180",
                                    "FOGALALASOK_SZAMA": "3"
                                },
                                {
                                    "SZOBA_ID": "181",
                                    "FOGALALASOK_SZAMA": "6"
                                },
                                {
                                    "SZOBA_ID": "182",
                                    "FOGALALASOK_SZAMA": "12"
                                },
                                {
                                    "SZOBA_ID": "183",
                                    "FOGALALASOK_SZAMA": "4"
                                },
                                {
                                    "SZOBA_ID": "184",
                                    "FOGALALASOK_SZAMA": "4"
                                },
                                {
                                    "SZOBA_ID": "185",
                                    "FOGALALASOK_SZAMA": "12"
                                },
                                {
                                    "SZOBA_ID": "186",
                                    "FOGALALASOK_SZAMA": "4"
                                },
                                {
                                    "SZOBA_ID": "187",
                                    "FOGALALASOK_SZAMA": "7"
                                },
                                {
                                    "SZOBA_ID": "188",
                                    "FOGALALASOK_SZAMA": "6"
                                },
                                {
                                    "SZOBA_ID": "189",
                                    "FOGALALASOK_SZAMA": "5"
                                },
                                {
                                    "SZOBA_ID": "190",
                                    "FOGALALASOK_SZAMA": "5"
                                },
                                {
                                    "SZOBA_ID": "191",
                                    "FOGALALASOK_SZAMA": "5"
                                },
                                {
                                    "SZOBA_ID": "192",
                                    "FOGALALASOK_SZAMA": "2"
                                },
                                {
                                    "SZOBA_ID": "193",
                                    "FOGALALASOK_SZAMA": "7"
                                },
                                {
                                    "SZOBA_ID": "194",
                                    "FOGALALASOK_SZAMA": "1"
                                },
                                {
                                    "SZOBA_ID": "195",
                                    "FOGALALASOK_SZAMA": "6"
                                },
                                {
                                    "SZOBA_ID": "196",
                                    "FOGALALASOK_SZAMA": "4"
                                },
                                {
                                    "SZOBA_ID": "197",
                                    "FOGALALASOK_SZAMA": "6"
                                },
                                {
                                    "SZOBA_ID": "198",
                                    "FOGALALASOK_SZAMA": "8"
                                },
                                {
                                    "SZOBA_ID": "199",
                                    "FOGALALASOK_SZAMA": "0"
                                },
                                {
                                    "SZOBA_ID": "200",
                                    "FOGALALASOK_SZAMA": "0"
                                },
                                {
                                    "SZOBA_ID": "201",
                                    "FOGALALASOK_SZAMA": "0"
                                },
                                {
                                    "SZOBA_ID": "202",
                                    "FOGALALASOK_SZAMA": "0"
                                },
                                {
                                    "SZOBA_ID": "203",
                                    "FOGALALASOK_SZAMA": "0"
                                },
                                {
                                    "SZOBA_ID": "204",
                                    "FOGALALASOK_SZAMA": "0"
                                },
                                {
                                    "SZOBA_ID": "205",
                                    "FOGALALASOK_SZAMA": "0"
                                },
                                {
                                    "SZOBA_ID": "206",
                                    "FOGALALASOK_SZAMA": "0"
                                },
                                {
                                    "SZOBA_ID": "207",
                                    "FOGALALASOK_SZAMA": "0"
                                },
                                {
                                    "SZOBA_ID": "208",
                                    "FOGALALASOK_SZAMA": "0"
                                },
                                {
                                    "SZOBA_ID": "209",
                                    "FOGALALASOK_SZAMA": "0"
                                },
                                {
                                    "SZOBA_ID": "210",
                                    "FOGALALASOK_SZAMA": "0"
                                },
                                {
                                    "SZOBA_ID": "211",
                                    "FOGALALASOK_SZAMA": "0"
                                },
                                {
                                    "SZOBA_ID": "212",
                                    "FOGALALASOK_SZAMA": "0"
                                },
                                {
                                    "SZOBA_ID": "213",
                                    "FOGALALASOK_SZAMA": "0"
                                },
                                {
                                    "SZOBA_ID": "214",
                                    "FOGALALASOK_SZAMA": "0"
                                },
                                {
                                    "SZOBA_ID": "215",
                                    "FOGALALASOK_SZAMA": "0"
                                },
                                {
                                    "SZOBA_ID": "216",
                                    "FOGALALASOK_SZAMA": "0"
                                },
                                {
                                    "SZOBA_ID": "217",
                                    "FOGALALASOK_SZAMA": "0"
                                },
                                {
                                    "SZOBA_ID": "218",
                                    "FOGALALASOK_SZAMA": "0"
                                },
                                {
                                    "SZOBA_ID": "219",
                                    "FOGALALASOK_SZAMA": "0"
                                },
                                {
                                    "SZOBA_ID": "220",
                                    "FOGALALASOK_SZAMA": "0"
                                },
                                {
                                    "SZOBA_ID": "221",
                                    "FOGALALASOK_SZAMA": "0"
                                },
                                {
                                    "SZOBA_ID": "222",
                                    "FOGALALASOK_SZAMA": "0"
                                },
                                {
                                    "SZOBA_ID": "223",
                                    "FOGALALASOK_SZAMA": "0"
                                },
                                {
                                    "SZOBA_ID": "224",
                                    "FOGALALASOK_SZAMA": "0"
                                },
                                {
                                    "SZOBA_ID": "225",
                                    "FOGALALASOK_SZAMA": "0"
                                },
                                {
                                    "SZOBA_ID": "226",
                                    "FOGALALASOK_SZAMA": "0"
                                },
                                {
                                    "SZOBA_ID": "227",
                                    "FOGALALASOK_SZAMA": "0"
                                },
                                {
                                    "SZOBA_ID": "228",
                                    "FOGALALASOK_SZAMA": "0"
                                },
                                {
                                    "SZOBA_ID": "229",
                                    "FOGALALASOK_SZAMA": "0"
                                },
                                {
                                    "SZOBA_ID": "230",
                                    "FOGALALASOK_SZAMA": "0"
                                },
                                {
                                    "SZOBA_ID": "231",
                                    "FOGALALASOK_SZAMA": "0"
                                },
                                {
                                    "SZOBA_ID": "232",
                                    "FOGALALASOK_SZAMA": "0"
                                },
                                {
                                    "SZOBA_ID": "233",
                                    "FOGALALASOK_SZAMA": "0"
                                },
                                {
                                    "SZOBA_ID": "234",
                                    "FOGALALASOK_SZAMA": "0"
                                },
                                {
                                    "SZOBA_ID": "235",
                                    "FOGALALASOK_SZAMA": "0"
                                },
                                {
                                    "SZOBA_ID": "236",
                                    "FOGALALASOK_SZAMA": "0"
                                },
                                {
                                    "SZOBA_ID": "237",
                                    "FOGALALASOK_SZAMA": "0"
                                },
                                {
                                    "SZOBA_ID": "238",
                                    "FOGALALASOK_SZAMA": "0"
                                },
                                {
                                    "SZOBA_ID": "239",
                                    "FOGALALASOK_SZAMA": "0"
                                },
                                {
                                    "SZOBA_ID": "240",
                                    "FOGALALASOK_SZAMA": "0"
                                },
                                {
                                    "SZOBA_ID": "241",
                                    "FOGALALASOK_SZAMA": "0"
                                },
                                {
                                    "SZOBA_ID": "242",
                                    "FOGALALASOK_SZAMA": "0"
                                },
                                {
                                    "SZOBA_ID": "243",
                                    "FOGALALASOK_SZAMA": "0"
                                },
                                {
                                    "SZOBA_ID": "244",
                                    "FOGALALASOK_SZAMA": "0"
                                },
                                {
                                    "SZOBA_ID": "245",
                                    "FOGALALASOK_SZAMA": "0"
                                },
                                {
                                    "SZOBA_ID": "246",
                                    "FOGALALASOK_SZAMA": "0"
                                },
                                {
                                    "SZOBA_ID": "247",
                                    "FOGALALASOK_SZAMA": "0"
                                },
                                {
                                    "SZOBA_ID": "248",
                                    "FOGALALASOK_SZAMA": "0"
                                },
                                {
                                    "SZOBA_ID": "249",
                                    "FOGALALASOK_SZAMA": "0"
                                },
                                {
                                    "SZOBA_ID": "250",
                                    "FOGALALASOK_SZAMA": "0"
                                },
                                {
                                    "SZOBA_ID": "251",
                                    "FOGALALASOK_SZAMA": "0"
                                },
                                {
                                    "SZOBA_ID": "252",
                                    "FOGALALASOK_SZAMA": "0"
                                },
                                {
                                    "SZOBA_ID": "253",
                                    "FOGALALASOK_SZAMA": "0"
                                },
                                {
                                    "SZOBA_ID": "254",
                                    "FOGALALASOK_SZAMA": "0"
                                },
                                {
                                    "SZOBA_ID": "255",
                                    "FOGALALASOK_SZAMA": "0"
                                },
                                {
                                    "SZOBA_ID": "256",
                                    "FOGALALASOK_SZAMA": "0"
                                },
                                {
                                    "SZOBA_ID": "257",
                                    "FOGALALASOK_SZAMA": "0"
                                },
                                {
                                    "SZOBA_ID": "258",
                                    "FOGALALASOK_SZAMA": "0"
                                },
                                {
                                    "SZOBA_ID": "259",
                                    "FOGALALASOK_SZAMA": "0"
                                },
                                {
                                    "SZOBA_ID": "260",
                                    "FOGALALASOK_SZAMA": "0"
                                },
                                {
                                    "SZOBA_ID": "261",
                                    "FOGALALASOK_SZAMA": "0"
                                },
                                {
                                    "SZOBA_ID": "262",
                                    "FOGALALASOK_SZAMA": "0"
                                },
                                {
                                    "SZOBA_ID": "263",
                                    "FOGALALASOK_SZAMA": "0"
                                },
                                {
                                    "SZOBA_ID": "264",
                                    "FOGALALASOK_SZAMA": "0"
                                },
                                {
                                    "SZOBA_ID": "265",
                                    "FOGALALASOK_SZAMA": "0"
                                },
                                {
                                    "SZOBA_ID": "266",
                                    "FOGALALASOK_SZAMA": "0"
                                },
                                {
                                    "SZOBA_ID": "267",
                                    "FOGALALASOK_SZAMA": "0"
                                },
                                {
                                    "SZOBA_ID": "268",
                                    "FOGALALASOK_SZAMA": "0"
                                },
                                {
                                    "SZOBA_ID": "269",
                                    "FOGALALASOK_SZAMA": "0"
                                },
                                {
                                    "SZOBA_ID": "270",
                                    "FOGALALASOK_SZAMA": "0"
                                },
                                {
                                    "SZOBA_ID": "271",
                                    "FOGALALASOK_SZAMA": "0"
                                },
                                {
                                    "SZOBA_ID": "272",
                                    "FOGALALASOK_SZAMA": "0"
                                },
                                {
                                    "SZOBA_ID": "273",
                                    "FOGALALASOK_SZAMA": "0"
                                },
                                {
                                    "SZOBA_ID": "274",
                                    "FOGALALASOK_SZAMA": "0"
                                },
                                {
                                    "SZOBA_ID": "275",
                                    "FOGALALASOK_SZAMA": "0"
                                },
                                {
                                    "SZOBA_ID": "276",
                                    "FOGALALASOK_SZAMA": "0"
                                },
                                {
                                    "SZOBA_ID": "277",
                                    "FOGALALASOK_SZAMA": "0"
                                },
                                {
                                    "SZOBA_ID": "278",
                                    "FOGALALASOK_SZAMA": "0"
                                },
                                {
                                    "SZOBA_ID": "279",
                                    "FOGALALASOK_SZAMA": "0"
                                },
                                {
                                    "SZOBA_ID": "280",
                                    "FOGALALASOK_SZAMA": "0"
                                },
                                {
                                    "SZOBA_ID": "281",
                                    "FOGALALASOK_SZAMA": "0"
                                },
                                {
                                    "SZOBA_ID": "282",
                                    "FOGALALASOK_SZAMA": "0"
                                },
                                {
                                    "SZOBA_ID": "283",
                                    "FOGALALASOK_SZAMA": "0"
                                },
                                {
                                    "SZOBA_ID": "284",
                                    "FOGALALASOK_SZAMA": "0"
                                },
                                {
                                    "SZOBA_ID": "285",
                                    "FOGALALASOK_SZAMA": "0"
                                },
                                {
                                    "SZOBA_ID": "286",
                                    "FOGALALASOK_SZAMA": "0"
                                },
                                {
                                    "SZOBA_ID": "287",
                                    "FOGALALASOK_SZAMA": "0"
                                },
                                {
                                    "SZOBA_ID": "288",
                                    "FOGALALASOK_SZAMA": "0"
                                },
                                {
                                    "SZOBA_ID": "289",
                                    "FOGALALASOK_SZAMA": "0"
                                },
                                {
                                    "SZOBA_ID": "290",
                                    "FOGALALASOK_SZAMA": "0"
                                },
                                {
                                    "SZOBA_ID": "291",
                                    "FOGALALASOK_SZAMA": "0"
                                },
                                {
                                    "SZOBA_ID": "292",
                                    "FOGALALASOK_SZAMA": "0"
                                },
                                {
                                    "SZOBA_ID": "293",
                                    "FOGALALASOK_SZAMA": "0"
                                },
                                {
                                    "SZOBA_ID": "294",
                                    "FOGALALASOK_SZAMA": "0"
                                }
                            ]
                        },
                        "text/html": [
                            "<table>",
                            "<tr><th>SZOBA_ID</th><th>FOGALALASOK_SZAMA</th></tr>",
                            "<tr><td>1</td><td>8</td></tr>",
                            "<tr><td>2</td><td>4</td></tr>",
                            "<tr><td>3</td><td>8</td></tr>",
                            "<tr><td>4</td><td>6</td></tr>",
                            "<tr><td>5</td><td>4</td></tr>",
                            "<tr><td>6</td><td>6</td></tr>",
                            "<tr><td>7</td><td>6</td></tr>",
                            "<tr><td>8</td><td>5</td></tr>",
                            "<tr><td>9</td><td>6</td></tr>",
                            "<tr><td>10</td><td>4</td></tr>",
                            "<tr><td>11</td><td>4</td></tr>",
                            "<tr><td>12</td><td>9</td></tr>",
                            "<tr><td>13</td><td>4</td></tr>",
                            "<tr><td>14</td><td>3</td></tr>",
                            "<tr><td>15</td><td>6</td></tr>",
                            "<tr><td>16</td><td>5</td></tr>",
                            "<tr><td>17</td><td>6</td></tr>",
                            "<tr><td>18</td><td>6</td></tr>",
                            "<tr><td>19</td><td>6</td></tr>",
                            "<tr><td>20</td><td>5</td></tr>",
                            "<tr><td>21</td><td>4</td></tr>",
                            "<tr><td>22</td><td>6</td></tr>",
                            "<tr><td>23</td><td>3</td></tr>",
                            "<tr><td>24</td><td>3</td></tr>",
                            "<tr><td>25</td><td>2</td></tr>",
                            "<tr><td>26</td><td>2</td></tr>",
                            "<tr><td>27</td><td>7</td></tr>",
                            "<tr><td>28</td><td>6</td></tr>",
                            "<tr><td>29</td><td>6</td></tr>",
                            "<tr><td>30</td><td>3</td></tr>",
                            "<tr><td>31</td><td>3</td></tr>",
                            "<tr><td>32</td><td>1</td></tr>",
                            "<tr><td>33</td><td>6</td></tr>",
                            "<tr><td>34</td><td>4</td></tr>",
                            "<tr><td>35</td><td>9</td></tr>",
                            "<tr><td>36</td><td>6</td></tr>",
                            "<tr><td>37</td><td>3</td></tr>",
                            "<tr><td>38</td><td>8</td></tr>",
                            "<tr><td>39</td><td>7</td></tr>",
                            "<tr><td>40</td><td>4</td></tr>",
                            "<tr><td>41</td><td>2</td></tr>",
                            "<tr><td>42</td><td>6</td></tr>",
                            "<tr><td>43</td><td>8</td></tr>",
                            "<tr><td>44</td><td>6</td></tr>",
                            "<tr><td>45</td><td>5</td></tr>",
                            "<tr><td>46</td><td>4</td></tr>",
                            "<tr><td>47</td><td>2</td></tr>",
                            "<tr><td>48</td><td>9</td></tr>",
                            "<tr><td>49</td><td>7</td></tr>",
                            "<tr><td>50</td><td>4</td></tr>",
                            "<tr><td>51</td><td>5</td></tr>",
                            "<tr><td>52</td><td>5</td></tr>",
                            "<tr><td>53</td><td>2</td></tr>",
                            "<tr><td>54</td><td>6</td></tr>",
                            "<tr><td>55</td><td>8</td></tr>",
                            "<tr><td>56</td><td>2</td></tr>",
                            "<tr><td>57</td><td>4</td></tr>",
                            "<tr><td>58</td><td>13</td></tr>",
                            "<tr><td>59</td><td>7</td></tr>",
                            "<tr><td>60</td><td>1</td></tr>",
                            "<tr><td>61</td><td>5</td></tr>",
                            "<tr><td>62</td><td>5</td></tr>",
                            "<tr><td>63</td><td>4</td></tr>",
                            "<tr><td>64</td><td>6</td></tr>",
                            "<tr><td>65</td><td>1</td></tr>",
                            "<tr><td>66</td><td>4</td></tr>",
                            "<tr><td>67</td><td>6</td></tr>",
                            "<tr><td>68</td><td>3</td></tr>",
                            "<tr><td>69</td><td>4</td></tr>",
                            "<tr><td>70</td><td>11</td></tr>",
                            "<tr><td>71</td><td>3</td></tr>",
                            "<tr><td>72</td><td>4</td></tr>",
                            "<tr><td>73</td><td>4</td></tr>",
                            "<tr><td>74</td><td>9</td></tr>",
                            "<tr><td>75</td><td>3</td></tr>",
                            "<tr><td>76</td><td>3</td></tr>",
                            "<tr><td>77</td><td>6</td></tr>",
                            "<tr><td>78</td><td>6</td></tr>",
                            "<tr><td>79</td><td>5</td></tr>",
                            "<tr><td>80</td><td>7</td></tr>",
                            "<tr><td>81</td><td>5</td></tr>",
                            "<tr><td>82</td><td>6</td></tr>",
                            "<tr><td>83</td><td>8</td></tr>",
                            "<tr><td>84</td><td>4</td></tr>",
                            "<tr><td>85</td><td>4</td></tr>",
                            "<tr><td>86</td><td>5</td></tr>",
                            "<tr><td>87</td><td>5</td></tr>",
                            "<tr><td>88</td><td>8</td></tr>",
                            "<tr><td>89</td><td>8</td></tr>",
                            "<tr><td>90</td><td>4</td></tr>",
                            "<tr><td>91</td><td>4</td></tr>",
                            "<tr><td>92</td><td>6</td></tr>",
                            "<tr><td>93</td><td>5</td></tr>",
                            "<tr><td>94</td><td>10</td></tr>",
                            "<tr><td>95</td><td>4</td></tr>",
                            "<tr><td>96</td><td>7</td></tr>",
                            "<tr><td>97</td><td>7</td></tr>",
                            "<tr><td>98</td><td>4</td></tr>",
                            "<tr><td>99</td><td>5</td></tr>",
                            "<tr><td>100</td><td>4</td></tr>",
                            "<tr><td>101</td><td>3</td></tr>",
                            "<tr><td>102</td><td>2</td></tr>",
                            "<tr><td>103</td><td>4</td></tr>",
                            "<tr><td>104</td><td>4</td></tr>",
                            "<tr><td>105</td><td>2</td></tr>",
                            "<tr><td>106</td><td>6</td></tr>",
                            "<tr><td>107</td><td>5</td></tr>",
                            "<tr><td>108</td><td>2</td></tr>",
                            "<tr><td>109</td><td>7</td></tr>",
                            "<tr><td>110</td><td>8</td></tr>",
                            "<tr><td>111</td><td>5</td></tr>",
                            "<tr><td>112</td><td>5</td></tr>",
                            "<tr><td>113</td><td>5</td></tr>",
                            "<tr><td>114</td><td>4</td></tr>",
                            "<tr><td>115</td><td>7</td></tr>",
                            "<tr><td>116</td><td>2</td></tr>",
                            "<tr><td>117</td><td>8</td></tr>",
                            "<tr><td>118</td><td>7</td></tr>",
                            "<tr><td>119</td><td>5</td></tr>",
                            "<tr><td>120</td><td>6</td></tr>",
                            "<tr><td>121</td><td>8</td></tr>",
                            "<tr><td>122</td><td>9</td></tr>",
                            "<tr><td>123</td><td>5</td></tr>",
                            "<tr><td>124</td><td>6</td></tr>",
                            "<tr><td>125</td><td>1</td></tr>",
                            "<tr><td>126</td><td>6</td></tr>",
                            "<tr><td>127</td><td>7</td></tr>",
                            "<tr><td>128</td><td>5</td></tr>",
                            "<tr><td>129</td><td>4</td></tr>",
                            "<tr><td>130</td><td>6</td></tr>",
                            "<tr><td>131</td><td>5</td></tr>",
                            "<tr><td>132</td><td>6</td></tr>",
                            "<tr><td>133</td><td>6</td></tr>",
                            "<tr><td>134</td><td>6</td></tr>",
                            "<tr><td>135</td><td>3</td></tr>",
                            "<tr><td>136</td><td>3</td></tr>",
                            "<tr><td>137</td><td>6</td></tr>",
                            "<tr><td>138</td><td>7</td></tr>",
                            "<tr><td>139</td><td>7</td></tr>",
                            "<tr><td>140</td><td>8</td></tr>",
                            "<tr><td>141</td><td>6</td></tr>",
                            "<tr><td>142</td><td>2</td></tr>",
                            "<tr><td>143</td><td>7</td></tr>",
                            "<tr><td>144</td><td>5</td></tr>",
                            "<tr><td>145</td><td>6</td></tr>",
                            "<tr><td>146</td><td>6</td></tr>",
                            "<tr><td>147</td><td>1</td></tr>",
                            "<tr><td>148</td><td>6</td></tr>",
                            "<tr><td>149</td><td>7</td></tr>",
                            "<tr><td>150</td><td>6</td></tr>",
                            "<tr><td>151</td><td>3</td></tr>",
                            "<tr><td>152</td><td>4</td></tr>",
                            "<tr><td>153</td><td>5</td></tr>",
                            "<tr><td>154</td><td>5</td></tr>",
                            "<tr><td>155</td><td>5</td></tr>",
                            "<tr><td>156</td><td>7</td></tr>",
                            "<tr><td>157</td><td>5</td></tr>",
                            "<tr><td>158</td><td>3</td></tr>",
                            "<tr><td>159</td><td>0</td></tr>",
                            "<tr><td>160</td><td>5</td></tr>",
                            "<tr><td>161</td><td>6</td></tr>",
                            "<tr><td>162</td><td>3</td></tr>",
                            "<tr><td>163</td><td>7</td></tr>",
                            "<tr><td>164</td><td>5</td></tr>",
                            "<tr><td>165</td><td>7</td></tr>",
                            "<tr><td>166</td><td>3</td></tr>",
                            "<tr><td>167</td><td>2</td></tr>",
                            "<tr><td>168</td><td>5</td></tr>",
                            "<tr><td>169</td><td>6</td></tr>",
                            "<tr><td>170</td><td>5</td></tr>",
                            "<tr><td>171</td><td>5</td></tr>",
                            "<tr><td>172</td><td>9</td></tr>",
                            "<tr><td>173</td><td>4</td></tr>",
                            "<tr><td>174</td><td>4</td></tr>",
                            "<tr><td>175</td><td>5</td></tr>",
                            "<tr><td>176</td><td>6</td></tr>",
                            "<tr><td>177</td><td>4</td></tr>",
                            "<tr><td>178</td><td>4</td></tr>",
                            "<tr><td>179</td><td>3</td></tr>",
                            "<tr><td>180</td><td>3</td></tr>",
                            "<tr><td>181</td><td>6</td></tr>",
                            "<tr><td>182</td><td>12</td></tr>",
                            "<tr><td>183</td><td>4</td></tr>",
                            "<tr><td>184</td><td>4</td></tr>",
                            "<tr><td>185</td><td>12</td></tr>",
                            "<tr><td>186</td><td>4</td></tr>",
                            "<tr><td>187</td><td>7</td></tr>",
                            "<tr><td>188</td><td>6</td></tr>",
                            "<tr><td>189</td><td>5</td></tr>",
                            "<tr><td>190</td><td>5</td></tr>",
                            "<tr><td>191</td><td>5</td></tr>",
                            "<tr><td>192</td><td>2</td></tr>",
                            "<tr><td>193</td><td>7</td></tr>",
                            "<tr><td>194</td><td>1</td></tr>",
                            "<tr><td>195</td><td>6</td></tr>",
                            "<tr><td>196</td><td>4</td></tr>",
                            "<tr><td>197</td><td>6</td></tr>",
                            "<tr><td>198</td><td>8</td></tr>",
                            "<tr><td>199</td><td>0</td></tr>",
                            "<tr><td>200</td><td>0</td></tr>",
                            "<tr><td>201</td><td>0</td></tr>",
                            "<tr><td>202</td><td>0</td></tr>",
                            "<tr><td>203</td><td>0</td></tr>",
                            "<tr><td>204</td><td>0</td></tr>",
                            "<tr><td>205</td><td>0</td></tr>",
                            "<tr><td>206</td><td>0</td></tr>",
                            "<tr><td>207</td><td>0</td></tr>",
                            "<tr><td>208</td><td>0</td></tr>",
                            "<tr><td>209</td><td>0</td></tr>",
                            "<tr><td>210</td><td>0</td></tr>",
                            "<tr><td>211</td><td>0</td></tr>",
                            "<tr><td>212</td><td>0</td></tr>",
                            "<tr><td>213</td><td>0</td></tr>",
                            "<tr><td>214</td><td>0</td></tr>",
                            "<tr><td>215</td><td>0</td></tr>",
                            "<tr><td>216</td><td>0</td></tr>",
                            "<tr><td>217</td><td>0</td></tr>",
                            "<tr><td>218</td><td>0</td></tr>",
                            "<tr><td>219</td><td>0</td></tr>",
                            "<tr><td>220</td><td>0</td></tr>",
                            "<tr><td>221</td><td>0</td></tr>",
                            "<tr><td>222</td><td>0</td></tr>",
                            "<tr><td>223</td><td>0</td></tr>",
                            "<tr><td>224</td><td>0</td></tr>",
                            "<tr><td>225</td><td>0</td></tr>",
                            "<tr><td>226</td><td>0</td></tr>",
                            "<tr><td>227</td><td>0</td></tr>",
                            "<tr><td>228</td><td>0</td></tr>",
                            "<tr><td>229</td><td>0</td></tr>",
                            "<tr><td>230</td><td>0</td></tr>",
                            "<tr><td>231</td><td>0</td></tr>",
                            "<tr><td>232</td><td>0</td></tr>",
                            "<tr><td>233</td><td>0</td></tr>",
                            "<tr><td>234</td><td>0</td></tr>",
                            "<tr><td>235</td><td>0</td></tr>",
                            "<tr><td>236</td><td>0</td></tr>",
                            "<tr><td>237</td><td>0</td></tr>",
                            "<tr><td>238</td><td>0</td></tr>",
                            "<tr><td>239</td><td>0</td></tr>",
                            "<tr><td>240</td><td>0</td></tr>",
                            "<tr><td>241</td><td>0</td></tr>",
                            "<tr><td>242</td><td>0</td></tr>",
                            "<tr><td>243</td><td>0</td></tr>",
                            "<tr><td>244</td><td>0</td></tr>",
                            "<tr><td>245</td><td>0</td></tr>",
                            "<tr><td>246</td><td>0</td></tr>",
                            "<tr><td>247</td><td>0</td></tr>",
                            "<tr><td>248</td><td>0</td></tr>",
                            "<tr><td>249</td><td>0</td></tr>",
                            "<tr><td>250</td><td>0</td></tr>",
                            "<tr><td>251</td><td>0</td></tr>",
                            "<tr><td>252</td><td>0</td></tr>",
                            "<tr><td>253</td><td>0</td></tr>",
                            "<tr><td>254</td><td>0</td></tr>",
                            "<tr><td>255</td><td>0</td></tr>",
                            "<tr><td>256</td><td>0</td></tr>",
                            "<tr><td>257</td><td>0</td></tr>",
                            "<tr><td>258</td><td>0</td></tr>",
                            "<tr><td>259</td><td>0</td></tr>",
                            "<tr><td>260</td><td>0</td></tr>",
                            "<tr><td>261</td><td>0</td></tr>",
                            "<tr><td>262</td><td>0</td></tr>",
                            "<tr><td>263</td><td>0</td></tr>",
                            "<tr><td>264</td><td>0</td></tr>",
                            "<tr><td>265</td><td>0</td></tr>",
                            "<tr><td>266</td><td>0</td></tr>",
                            "<tr><td>267</td><td>0</td></tr>",
                            "<tr><td>268</td><td>0</td></tr>",
                            "<tr><td>269</td><td>0</td></tr>",
                            "<tr><td>270</td><td>0</td></tr>",
                            "<tr><td>271</td><td>0</td></tr>",
                            "<tr><td>272</td><td>0</td></tr>",
                            "<tr><td>273</td><td>0</td></tr>",
                            "<tr><td>274</td><td>0</td></tr>",
                            "<tr><td>275</td><td>0</td></tr>",
                            "<tr><td>276</td><td>0</td></tr>",
                            "<tr><td>277</td><td>0</td></tr>",
                            "<tr><td>278</td><td>0</td></tr>",
                            "<tr><td>279</td><td>0</td></tr>",
                            "<tr><td>280</td><td>0</td></tr>",
                            "<tr><td>281</td><td>0</td></tr>",
                            "<tr><td>282</td><td>0</td></tr>",
                            "<tr><td>283</td><td>0</td></tr>",
                            "<tr><td>284</td><td>0</td></tr>",
                            "<tr><td>285</td><td>0</td></tr>",
                            "<tr><td>286</td><td>0</td></tr>",
                            "<tr><td>287</td><td>0</td></tr>",
                            "<tr><td>288</td><td>0</td></tr>",
                            "<tr><td>289</td><td>0</td></tr>",
                            "<tr><td>290</td><td>0</td></tr>",
                            "<tr><td>291</td><td>0</td></tr>",
                            "<tr><td>292</td><td>0</td></tr>",
                            "<tr><td>293</td><td>0</td></tr>",
                            "<tr><td>294</td><td>0</td></tr>",
                            "</table>"
                        ]
                    }
                }
            ],
            "execution_count": 1
        },
        {
            "cell_type": "markdown",
            "source": [
                "2\\. feladat"
            ],
            "metadata": {
                "azdata_cell_guid": "4fbaa7d7-bb63-4911-b5a9-cdc7d5335d7b"
            },
            "attachments": {}
        },
        {
            "cell_type": "code",
            "source": [
                "SELECT  sz.SZALLAS_ID,\r\n",
                "        sz.SZALLAS_NEV\r\n",
                "FROM Szallashely sz\r\n",
                "INNER JOIN \r\n",
                "    (SELECT HELY,\r\n",
                "            MAX(CSILLAGOK_SZAMA) AS MAX_CSILLAG\r\n",
                "     FROM Szallashely\r\n",
                "     GROUP BY HELY) AS mc \r\n",
                "ON sz.HELY = mc.HELY AND sz.CSILLAGOK_SZAMA = mc.MAX_CSILLAG;\r\n",
                ""
            ],
            "metadata": {
                "azdata_cell_guid": "afa8f793-6c90-40c2-adfd-4323af6c8f0a",
                "language": "sql",
                "tags": []
            },
            "outputs": [
                {
                    "output_type": "display_data",
                    "data": {
                        "text/html": "(11 rows affected)"
                    },
                    "metadata": {}
                },
                {
                    "output_type": "display_data",
                    "data": {
                        "text/html": "Total execution time: 00:00:00.011"
                    },
                    "metadata": {}
                },
                {
                    "output_type": "execute_result",
                    "metadata": {},
                    "execution_count": 5,
                    "data": {
                        "application/vnd.dataresource+json": {
                            "schema": {
                                "fields": [
                                    {
                                        "name": "SZALLAS_ID"
                                    },
                                    {
                                        "name": "SZALLAS_NEV"
                                    }
                                ]
                            },
                            "data": [
                                {
                                    "SZALLAS_ID": "17",
                                    "SZALLAS_NEV": "Szarvas Hotel"
                                },
                                {
                                    "SZALLAS_ID": "16",
                                    "SZALLAS_NEV": "Bagoly Hotel"
                                },
                                {
                                    "SZALLAS_ID": "3",
                                    "SZALLAS_NEV": "Fortuna Apartman"
                                },
                                {
                                    "SZALLAS_ID": "18",
                                    "SZALLAS_NEV": "Fortuna Apartman"
                                },
                                {
                                    "SZALLAS_ID": "19",
                                    "SZALLAS_NEV": "Nyárfás Vendégház"
                                },
                                {
                                    "SZALLAS_ID": "21",
                                    "SZALLAS_NEV": "Müller Vendégház"
                                },
                                {
                                    "SZALLAS_ID": "13",
                                    "SZALLAS_NEV": "Riviéra Panzió"
                                },
                                {
                                    "SZALLAS_ID": "10",
                                    "SZALLAS_NEV": "Lagúna Hotel"
                                },
                                {
                                    "SZALLAS_ID": "5",
                                    "SZALLAS_NEV": "Fortuna Panzió"
                                },
                                {
                                    "SZALLAS_ID": "11",
                                    "SZALLAS_NEV": "Partiszél Vendégház"
                                },
                                {
                                    "SZALLAS_ID": "8",
                                    "SZALLAS_NEV": "Hotel Három Hattyú"
                                }
                            ]
                        },
                        "text/html": [
                            "<table>",
                            "<tr><th>SZALLAS_ID</th><th>SZALLAS_NEV</th></tr>",
                            "<tr><td>17</td><td>Szarvas Hotel</td></tr>",
                            "<tr><td>16</td><td>Bagoly Hotel</td></tr>",
                            "<tr><td>3</td><td>Fortuna Apartman</td></tr>",
                            "<tr><td>18</td><td>Fortuna Apartman</td></tr>",
                            "<tr><td>19</td><td>Nyárfás Vendégház</td></tr>",
                            "<tr><td>21</td><td>Müller Vendégház</td></tr>",
                            "<tr><td>13</td><td>Riviéra Panzió</td></tr>",
                            "<tr><td>10</td><td>Lagúna Hotel</td></tr>",
                            "<tr><td>5</td><td>Fortuna Panzió</td></tr>",
                            "<tr><td>11</td><td>Partiszél Vendégház</td></tr>",
                            "<tr><td>8</td><td>Hotel Három Hattyú</td></tr>",
                            "</table>"
                        ]
                    }
                }
            ],
            "execution_count": 5
        },
        {
            "cell_type": "markdown",
            "source": [
                "3\\. feladat"
            ],
            "metadata": {
                "azdata_cell_guid": "74752cf4-2bf8-4b41-8c3f-79193343ad69"
            },
            "attachments": {}
        },
        {
            "cell_type": "code",
            "source": [
                "SELECT  sz.SZOBA_ID AS room_id,\r\n",
                "        AVG(total_guests) AS average_guests\r\n",
                "FROM (SELECT    f.SZOBA_FK AS room_id,\r\n",
                "                SUM(f.FELNOTT_SZAM + f.GYERMEK_SZAM) AS total_guests,\r\n",
                "                ROW_NUMBER() OVER (PARTITION BY f.SZOBA_FK ORDER BY f.METTOL DESC) AS row_num\r\n",
                "    FROM Foglalas f\r\n",
                "    GROUP BY f.SZOBA_FK, f.METTOL\r\n",
                ") AS UtolsoOt\r\n",
                "JOIN Szoba sz ON UtolsoOt.room_id = sz.SZOBA_ID\r\n",
                "WHERE row_num <= 5\r\n",
                "GROUP BY sz.SZOBA_ID;\r\n",
                ""
            ],
            "metadata": {
                "azdata_cell_guid": "3e744cc1-6490-431f-9af5-7df8dbb6476f",
                "language": "sql",
                "tags": []
            },
            "outputs": [
                {
                    "output_type": "display_data",
                    "data": {
                        "text/html": "(197 rows affected)"
                    },
                    "metadata": {}
                },
                {
                    "output_type": "display_data",
                    "data": {
                        "text/html": "Total execution time: 00:00:00.019"
                    },
                    "metadata": {}
                },
                {
                    "output_type": "execute_result",
                    "metadata": {},
                    "execution_count": 45,
                    "data": {
                        "application/vnd.dataresource+json": {
                            "schema": {
                                "fields": [
                                    {
                                        "name": "room_id"
                                    },
                                    {
                                        "name": "average_guests"
                                    }
                                ]
                            },
                            "data": [
                                {
                                    "room_id": "1",
                                    "average_guests": "2"
                                },
                                {
                                    "room_id": "2",
                                    "average_guests": "3"
                                },
                                {
                                    "room_id": "3",
                                    "average_guests": "2"
                                },
                                {
                                    "room_id": "4",
                                    "average_guests": "1"
                                },
                                {
                                    "room_id": "5",
                                    "average_guests": "1"
                                },
                                {
                                    "room_id": "6",
                                    "average_guests": "2"
                                },
                                {
                                    "room_id": "7",
                                    "average_guests": "1"
                                },
                                {
                                    "room_id": "8",
                                    "average_guests": "2"
                                },
                                {
                                    "room_id": "9",
                                    "average_guests": "3"
                                },
                                {
                                    "room_id": "10",
                                    "average_guests": "2"
                                },
                                {
                                    "room_id": "11",
                                    "average_guests": "2"
                                },
                                {
                                    "room_id": "12",
                                    "average_guests": "2"
                                },
                                {
                                    "room_id": "13",
                                    "average_guests": "2"
                                },
                                {
                                    "room_id": "14",
                                    "average_guests": "3"
                                },
                                {
                                    "room_id": "15",
                                    "average_guests": "2"
                                },
                                {
                                    "room_id": "16",
                                    "average_guests": "3"
                                },
                                {
                                    "room_id": "17",
                                    "average_guests": "2"
                                },
                                {
                                    "room_id": "18",
                                    "average_guests": "3"
                                },
                                {
                                    "room_id": "19",
                                    "average_guests": "2"
                                },
                                {
                                    "room_id": "20",
                                    "average_guests": "3"
                                },
                                {
                                    "room_id": "21",
                                    "average_guests": "2"
                                },
                                {
                                    "room_id": "22",
                                    "average_guests": "3"
                                },
                                {
                                    "room_id": "23",
                                    "average_guests": "1"
                                },
                                {
                                    "room_id": "24",
                                    "average_guests": "3"
                                },
                                {
                                    "room_id": "25",
                                    "average_guests": "3"
                                },
                                {
                                    "room_id": "26",
                                    "average_guests": "2"
                                },
                                {
                                    "room_id": "27",
                                    "average_guests": "3"
                                },
                                {
                                    "room_id": "28",
                                    "average_guests": "2"
                                },
                                {
                                    "room_id": "29",
                                    "average_guests": "1"
                                },
                                {
                                    "room_id": "30",
                                    "average_guests": "2"
                                },
                                {
                                    "room_id": "31",
                                    "average_guests": "4"
                                },
                                {
                                    "room_id": "32",
                                    "average_guests": "2"
                                },
                                {
                                    "room_id": "33",
                                    "average_guests": "2"
                                },
                                {
                                    "room_id": "34",
                                    "average_guests": "2"
                                },
                                {
                                    "room_id": "35",
                                    "average_guests": "1"
                                },
                                {
                                    "room_id": "36",
                                    "average_guests": "3"
                                },
                                {
                                    "room_id": "37",
                                    "average_guests": "1"
                                },
                                {
                                    "room_id": "38",
                                    "average_guests": "2"
                                },
                                {
                                    "room_id": "39",
                                    "average_guests": "2"
                                },
                                {
                                    "room_id": "40",
                                    "average_guests": "3"
                                },
                                {
                                    "room_id": "41",
                                    "average_guests": "3"
                                },
                                {
                                    "room_id": "42",
                                    "average_guests": "2"
                                },
                                {
                                    "room_id": "43",
                                    "average_guests": "2"
                                },
                                {
                                    "room_id": "44",
                                    "average_guests": "3"
                                },
                                {
                                    "room_id": "45",
                                    "average_guests": "2"
                                },
                                {
                                    "room_id": "46",
                                    "average_guests": "2"
                                },
                                {
                                    "room_id": "47",
                                    "average_guests": "1"
                                },
                                {
                                    "room_id": "48",
                                    "average_guests": "2"
                                },
                                {
                                    "room_id": "49",
                                    "average_guests": "2"
                                },
                                {
                                    "room_id": "50",
                                    "average_guests": "1"
                                },
                                {
                                    "room_id": "51",
                                    "average_guests": "2"
                                },
                                {
                                    "room_id": "52",
                                    "average_guests": "1"
                                },
                                {
                                    "room_id": "53",
                                    "average_guests": "2"
                                },
                                {
                                    "room_id": "54",
                                    "average_guests": "2"
                                },
                                {
                                    "room_id": "55",
                                    "average_guests": "3"
                                },
                                {
                                    "room_id": "56",
                                    "average_guests": "1"
                                },
                                {
                                    "room_id": "57",
                                    "average_guests": "1"
                                },
                                {
                                    "room_id": "58",
                                    "average_guests": "2"
                                },
                                {
                                    "room_id": "59",
                                    "average_guests": "2"
                                },
                                {
                                    "room_id": "60",
                                    "average_guests": "2"
                                },
                                {
                                    "room_id": "61",
                                    "average_guests": "2"
                                },
                                {
                                    "room_id": "62",
                                    "average_guests": "1"
                                },
                                {
                                    "room_id": "63",
                                    "average_guests": "1"
                                },
                                {
                                    "room_id": "64",
                                    "average_guests": "2"
                                },
                                {
                                    "room_id": "65",
                                    "average_guests": "2"
                                },
                                {
                                    "room_id": "66",
                                    "average_guests": "3"
                                },
                                {
                                    "room_id": "67",
                                    "average_guests": "3"
                                },
                                {
                                    "room_id": "68",
                                    "average_guests": "4"
                                },
                                {
                                    "room_id": "69",
                                    "average_guests": "2"
                                },
                                {
                                    "room_id": "70",
                                    "average_guests": "2"
                                },
                                {
                                    "room_id": "71",
                                    "average_guests": "2"
                                },
                                {
                                    "room_id": "72",
                                    "average_guests": "1"
                                },
                                {
                                    "room_id": "73",
                                    "average_guests": "2"
                                },
                                {
                                    "room_id": "74",
                                    "average_guests": "3"
                                },
                                {
                                    "room_id": "75",
                                    "average_guests": "2"
                                },
                                {
                                    "room_id": "76",
                                    "average_guests": "1"
                                },
                                {
                                    "room_id": "77",
                                    "average_guests": "2"
                                },
                                {
                                    "room_id": "78",
                                    "average_guests": "2"
                                },
                                {
                                    "room_id": "79",
                                    "average_guests": "2"
                                },
                                {
                                    "room_id": "80",
                                    "average_guests": "2"
                                },
                                {
                                    "room_id": "81",
                                    "average_guests": "1"
                                },
                                {
                                    "room_id": "82",
                                    "average_guests": "2"
                                },
                                {
                                    "room_id": "83",
                                    "average_guests": "2"
                                },
                                {
                                    "room_id": "84",
                                    "average_guests": "1"
                                },
                                {
                                    "room_id": "85",
                                    "average_guests": "2"
                                },
                                {
                                    "room_id": "86",
                                    "average_guests": "2"
                                },
                                {
                                    "room_id": "87",
                                    "average_guests": "2"
                                },
                                {
                                    "room_id": "88",
                                    "average_guests": "2"
                                },
                                {
                                    "room_id": "89",
                                    "average_guests": "2"
                                },
                                {
                                    "room_id": "90",
                                    "average_guests": "2"
                                },
                                {
                                    "room_id": "91",
                                    "average_guests": "1"
                                },
                                {
                                    "room_id": "92",
                                    "average_guests": "3"
                                },
                                {
                                    "room_id": "93",
                                    "average_guests": "3"
                                },
                                {
                                    "room_id": "94",
                                    "average_guests": "1"
                                },
                                {
                                    "room_id": "95",
                                    "average_guests": "1"
                                },
                                {
                                    "room_id": "96",
                                    "average_guests": "2"
                                },
                                {
                                    "room_id": "97",
                                    "average_guests": "3"
                                },
                                {
                                    "room_id": "98",
                                    "average_guests": "1"
                                },
                                {
                                    "room_id": "99",
                                    "average_guests": "2"
                                },
                                {
                                    "room_id": "100",
                                    "average_guests": "2"
                                },
                                {
                                    "room_id": "101",
                                    "average_guests": "2"
                                },
                                {
                                    "room_id": "102",
                                    "average_guests": "1"
                                },
                                {
                                    "room_id": "103",
                                    "average_guests": "2"
                                },
                                {
                                    "room_id": "104",
                                    "average_guests": "2"
                                },
                                {
                                    "room_id": "105",
                                    "average_guests": "2"
                                },
                                {
                                    "room_id": "106",
                                    "average_guests": "1"
                                },
                                {
                                    "room_id": "107",
                                    "average_guests": "2"
                                },
                                {
                                    "room_id": "108",
                                    "average_guests": "1"
                                },
                                {
                                    "room_id": "109",
                                    "average_guests": "2"
                                },
                                {
                                    "room_id": "110",
                                    "average_guests": "1"
                                },
                                {
                                    "room_id": "111",
                                    "average_guests": "2"
                                },
                                {
                                    "room_id": "112",
                                    "average_guests": "3"
                                },
                                {
                                    "room_id": "113",
                                    "average_guests": "4"
                                },
                                {
                                    "room_id": "114",
                                    "average_guests": "2"
                                },
                                {
                                    "room_id": "115",
                                    "average_guests": "2"
                                },
                                {
                                    "room_id": "116",
                                    "average_guests": "2"
                                },
                                {
                                    "room_id": "117",
                                    "average_guests": "3"
                                },
                                {
                                    "room_id": "118",
                                    "average_guests": "2"
                                },
                                {
                                    "room_id": "119",
                                    "average_guests": "1"
                                },
                                {
                                    "room_id": "120",
                                    "average_guests": "2"
                                },
                                {
                                    "room_id": "121",
                                    "average_guests": "2"
                                },
                                {
                                    "room_id": "122",
                                    "average_guests": "3"
                                },
                                {
                                    "room_id": "123",
                                    "average_guests": "2"
                                },
                                {
                                    "room_id": "124",
                                    "average_guests": "2"
                                },
                                {
                                    "room_id": "125",
                                    "average_guests": "3"
                                },
                                {
                                    "room_id": "126",
                                    "average_guests": "1"
                                },
                                {
                                    "room_id": "127",
                                    "average_guests": "2"
                                },
                                {
                                    "room_id": "128",
                                    "average_guests": "2"
                                },
                                {
                                    "room_id": "129",
                                    "average_guests": "2"
                                },
                                {
                                    "room_id": "130",
                                    "average_guests": "1"
                                },
                                {
                                    "room_id": "131",
                                    "average_guests": "1"
                                },
                                {
                                    "room_id": "132",
                                    "average_guests": "2"
                                },
                                {
                                    "room_id": "133",
                                    "average_guests": "2"
                                },
                                {
                                    "room_id": "134",
                                    "average_guests": "2"
                                },
                                {
                                    "room_id": "135",
                                    "average_guests": "2"
                                },
                                {
                                    "room_id": "136",
                                    "average_guests": "1"
                                },
                                {
                                    "room_id": "137",
                                    "average_guests": "2"
                                },
                                {
                                    "room_id": "138",
                                    "average_guests": "2"
                                },
                                {
                                    "room_id": "139",
                                    "average_guests": "2"
                                },
                                {
                                    "room_id": "140",
                                    "average_guests": "2"
                                },
                                {
                                    "room_id": "141",
                                    "average_guests": "2"
                                },
                                {
                                    "room_id": "142",
                                    "average_guests": "2"
                                },
                                {
                                    "room_id": "143",
                                    "average_guests": "3"
                                },
                                {
                                    "room_id": "144",
                                    "average_guests": "3"
                                },
                                {
                                    "room_id": "145",
                                    "average_guests": "2"
                                },
                                {
                                    "room_id": "146",
                                    "average_guests": "2"
                                },
                                {
                                    "room_id": "147",
                                    "average_guests": "2"
                                },
                                {
                                    "room_id": "148",
                                    "average_guests": "2"
                                },
                                {
                                    "room_id": "149",
                                    "average_guests": "1"
                                },
                                {
                                    "room_id": "150",
                                    "average_guests": "2"
                                },
                                {
                                    "room_id": "151",
                                    "average_guests": "1"
                                },
                                {
                                    "room_id": "152",
                                    "average_guests": "2"
                                },
                                {
                                    "room_id": "153",
                                    "average_guests": "2"
                                },
                                {
                                    "room_id": "154",
                                    "average_guests": "2"
                                },
                                {
                                    "room_id": "155",
                                    "average_guests": "2"
                                },
                                {
                                    "room_id": "156",
                                    "average_guests": "3"
                                },
                                {
                                    "room_id": "157",
                                    "average_guests": "1"
                                },
                                {
                                    "room_id": "158",
                                    "average_guests": "3"
                                },
                                {
                                    "room_id": "160",
                                    "average_guests": "4"
                                },
                                {
                                    "room_id": "161",
                                    "average_guests": "2"
                                },
                                {
                                    "room_id": "162",
                                    "average_guests": "2"
                                },
                                {
                                    "room_id": "163",
                                    "average_guests": "1"
                                },
                                {
                                    "room_id": "164",
                                    "average_guests": "2"
                                },
                                {
                                    "room_id": "165",
                                    "average_guests": "2"
                                },
                                {
                                    "room_id": "166",
                                    "average_guests": "2"
                                },
                                {
                                    "room_id": "167",
                                    "average_guests": "2"
                                },
                                {
                                    "room_id": "168",
                                    "average_guests": "3"
                                },
                                {
                                    "room_id": "169",
                                    "average_guests": "2"
                                },
                                {
                                    "room_id": "170",
                                    "average_guests": "1"
                                },
                                {
                                    "room_id": "171",
                                    "average_guests": "1"
                                },
                                {
                                    "room_id": "172",
                                    "average_guests": "1"
                                },
                                {
                                    "room_id": "173",
                                    "average_guests": "1"
                                },
                                {
                                    "room_id": "174",
                                    "average_guests": "1"
                                },
                                {
                                    "room_id": "175",
                                    "average_guests": "1"
                                },
                                {
                                    "room_id": "176",
                                    "average_guests": "3"
                                },
                                {
                                    "room_id": "177",
                                    "average_guests": "3"
                                },
                                {
                                    "room_id": "178",
                                    "average_guests": "3"
                                },
                                {
                                    "room_id": "179",
                                    "average_guests": "3"
                                },
                                {
                                    "room_id": "180",
                                    "average_guests": "3"
                                },
                                {
                                    "room_id": "181",
                                    "average_guests": "3"
                                },
                                {
                                    "room_id": "182",
                                    "average_guests": "1"
                                },
                                {
                                    "room_id": "183",
                                    "average_guests": "2"
                                },
                                {
                                    "room_id": "184",
                                    "average_guests": "1"
                                },
                                {
                                    "room_id": "185",
                                    "average_guests": "3"
                                },
                                {
                                    "room_id": "186",
                                    "average_guests": "3"
                                },
                                {
                                    "room_id": "187",
                                    "average_guests": "2"
                                },
                                {
                                    "room_id": "188",
                                    "average_guests": "2"
                                },
                                {
                                    "room_id": "189",
                                    "average_guests": "2"
                                },
                                {
                                    "room_id": "190",
                                    "average_guests": "1"
                                },
                                {
                                    "room_id": "191",
                                    "average_guests": "2"
                                },
                                {
                                    "room_id": "192",
                                    "average_guests": "2"
                                },
                                {
                                    "room_id": "193",
                                    "average_guests": "4"
                                },
                                {
                                    "room_id": "194",
                                    "average_guests": "3"
                                },
                                {
                                    "room_id": "195",
                                    "average_guests": "1"
                                },
                                {
                                    "room_id": "196",
                                    "average_guests": "2"
                                },
                                {
                                    "room_id": "197",
                                    "average_guests": "2"
                                },
                                {
                                    "room_id": "198",
                                    "average_guests": "2"
                                }
                            ]
                        },
                        "text/html": [
                            "<table>",
                            "<tr><th>room_id</th><th>average_guests</th></tr>",
                            "<tr><td>1</td><td>2</td></tr>",
                            "<tr><td>2</td><td>3</td></tr>",
                            "<tr><td>3</td><td>2</td></tr>",
                            "<tr><td>4</td><td>1</td></tr>",
                            "<tr><td>5</td><td>1</td></tr>",
                            "<tr><td>6</td><td>2</td></tr>",
                            "<tr><td>7</td><td>1</td></tr>",
                            "<tr><td>8</td><td>2</td></tr>",
                            "<tr><td>9</td><td>3</td></tr>",
                            "<tr><td>10</td><td>2</td></tr>",
                            "<tr><td>11</td><td>2</td></tr>",
                            "<tr><td>12</td><td>2</td></tr>",
                            "<tr><td>13</td><td>2</td></tr>",
                            "<tr><td>14</td><td>3</td></tr>",
                            "<tr><td>15</td><td>2</td></tr>",
                            "<tr><td>16</td><td>3</td></tr>",
                            "<tr><td>17</td><td>2</td></tr>",
                            "<tr><td>18</td><td>3</td></tr>",
                            "<tr><td>19</td><td>2</td></tr>",
                            "<tr><td>20</td><td>3</td></tr>",
                            "<tr><td>21</td><td>2</td></tr>",
                            "<tr><td>22</td><td>3</td></tr>",
                            "<tr><td>23</td><td>1</td></tr>",
                            "<tr><td>24</td><td>3</td></tr>",
                            "<tr><td>25</td><td>3</td></tr>",
                            "<tr><td>26</td><td>2</td></tr>",
                            "<tr><td>27</td><td>3</td></tr>",
                            "<tr><td>28</td><td>2</td></tr>",
                            "<tr><td>29</td><td>1</td></tr>",
                            "<tr><td>30</td><td>2</td></tr>",
                            "<tr><td>31</td><td>4</td></tr>",
                            "<tr><td>32</td><td>2</td></tr>",
                            "<tr><td>33</td><td>2</td></tr>",
                            "<tr><td>34</td><td>2</td></tr>",
                            "<tr><td>35</td><td>1</td></tr>",
                            "<tr><td>36</td><td>3</td></tr>",
                            "<tr><td>37</td><td>1</td></tr>",
                            "<tr><td>38</td><td>2</td></tr>",
                            "<tr><td>39</td><td>2</td></tr>",
                            "<tr><td>40</td><td>3</td></tr>",
                            "<tr><td>41</td><td>3</td></tr>",
                            "<tr><td>42</td><td>2</td></tr>",
                            "<tr><td>43</td><td>2</td></tr>",
                            "<tr><td>44</td><td>3</td></tr>",
                            "<tr><td>45</td><td>2</td></tr>",
                            "<tr><td>46</td><td>2</td></tr>",
                            "<tr><td>47</td><td>1</td></tr>",
                            "<tr><td>48</td><td>2</td></tr>",
                            "<tr><td>49</td><td>2</td></tr>",
                            "<tr><td>50</td><td>1</td></tr>",
                            "<tr><td>51</td><td>2</td></tr>",
                            "<tr><td>52</td><td>1</td></tr>",
                            "<tr><td>53</td><td>2</td></tr>",
                            "<tr><td>54</td><td>2</td></tr>",
                            "<tr><td>55</td><td>3</td></tr>",
                            "<tr><td>56</td><td>1</td></tr>",
                            "<tr><td>57</td><td>1</td></tr>",
                            "<tr><td>58</td><td>2</td></tr>",
                            "<tr><td>59</td><td>2</td></tr>",
                            "<tr><td>60</td><td>2</td></tr>",
                            "<tr><td>61</td><td>2</td></tr>",
                            "<tr><td>62</td><td>1</td></tr>",
                            "<tr><td>63</td><td>1</td></tr>",
                            "<tr><td>64</td><td>2</td></tr>",
                            "<tr><td>65</td><td>2</td></tr>",
                            "<tr><td>66</td><td>3</td></tr>",
                            "<tr><td>67</td><td>3</td></tr>",
                            "<tr><td>68</td><td>4</td></tr>",
                            "<tr><td>69</td><td>2</td></tr>",
                            "<tr><td>70</td><td>2</td></tr>",
                            "<tr><td>71</td><td>2</td></tr>",
                            "<tr><td>72</td><td>1</td></tr>",
                            "<tr><td>73</td><td>2</td></tr>",
                            "<tr><td>74</td><td>3</td></tr>",
                            "<tr><td>75</td><td>2</td></tr>",
                            "<tr><td>76</td><td>1</td></tr>",
                            "<tr><td>77</td><td>2</td></tr>",
                            "<tr><td>78</td><td>2</td></tr>",
                            "<tr><td>79</td><td>2</td></tr>",
                            "<tr><td>80</td><td>2</td></tr>",
                            "<tr><td>81</td><td>1</td></tr>",
                            "<tr><td>82</td><td>2</td></tr>",
                            "<tr><td>83</td><td>2</td></tr>",
                            "<tr><td>84</td><td>1</td></tr>",
                            "<tr><td>85</td><td>2</td></tr>",
                            "<tr><td>86</td><td>2</td></tr>",
                            "<tr><td>87</td><td>2</td></tr>",
                            "<tr><td>88</td><td>2</td></tr>",
                            "<tr><td>89</td><td>2</td></tr>",
                            "<tr><td>90</td><td>2</td></tr>",
                            "<tr><td>91</td><td>1</td></tr>",
                            "<tr><td>92</td><td>3</td></tr>",
                            "<tr><td>93</td><td>3</td></tr>",
                            "<tr><td>94</td><td>1</td></tr>",
                            "<tr><td>95</td><td>1</td></tr>",
                            "<tr><td>96</td><td>2</td></tr>",
                            "<tr><td>97</td><td>3</td></tr>",
                            "<tr><td>98</td><td>1</td></tr>",
                            "<tr><td>99</td><td>2</td></tr>",
                            "<tr><td>100</td><td>2</td></tr>",
                            "<tr><td>101</td><td>2</td></tr>",
                            "<tr><td>102</td><td>1</td></tr>",
                            "<tr><td>103</td><td>2</td></tr>",
                            "<tr><td>104</td><td>2</td></tr>",
                            "<tr><td>105</td><td>2</td></tr>",
                            "<tr><td>106</td><td>1</td></tr>",
                            "<tr><td>107</td><td>2</td></tr>",
                            "<tr><td>108</td><td>1</td></tr>",
                            "<tr><td>109</td><td>2</td></tr>",
                            "<tr><td>110</td><td>1</td></tr>",
                            "<tr><td>111</td><td>2</td></tr>",
                            "<tr><td>112</td><td>3</td></tr>",
                            "<tr><td>113</td><td>4</td></tr>",
                            "<tr><td>114</td><td>2</td></tr>",
                            "<tr><td>115</td><td>2</td></tr>",
                            "<tr><td>116</td><td>2</td></tr>",
                            "<tr><td>117</td><td>3</td></tr>",
                            "<tr><td>118</td><td>2</td></tr>",
                            "<tr><td>119</td><td>1</td></tr>",
                            "<tr><td>120</td><td>2</td></tr>",
                            "<tr><td>121</td><td>2</td></tr>",
                            "<tr><td>122</td><td>3</td></tr>",
                            "<tr><td>123</td><td>2</td></tr>",
                            "<tr><td>124</td><td>2</td></tr>",
                            "<tr><td>125</td><td>3</td></tr>",
                            "<tr><td>126</td><td>1</td></tr>",
                            "<tr><td>127</td><td>2</td></tr>",
                            "<tr><td>128</td><td>2</td></tr>",
                            "<tr><td>129</td><td>2</td></tr>",
                            "<tr><td>130</td><td>1</td></tr>",
                            "<tr><td>131</td><td>1</td></tr>",
                            "<tr><td>132</td><td>2</td></tr>",
                            "<tr><td>133</td><td>2</td></tr>",
                            "<tr><td>134</td><td>2</td></tr>",
                            "<tr><td>135</td><td>2</td></tr>",
                            "<tr><td>136</td><td>1</td></tr>",
                            "<tr><td>137</td><td>2</td></tr>",
                            "<tr><td>138</td><td>2</td></tr>",
                            "<tr><td>139</td><td>2</td></tr>",
                            "<tr><td>140</td><td>2</td></tr>",
                            "<tr><td>141</td><td>2</td></tr>",
                            "<tr><td>142</td><td>2</td></tr>",
                            "<tr><td>143</td><td>3</td></tr>",
                            "<tr><td>144</td><td>3</td></tr>",
                            "<tr><td>145</td><td>2</td></tr>",
                            "<tr><td>146</td><td>2</td></tr>",
                            "<tr><td>147</td><td>2</td></tr>",
                            "<tr><td>148</td><td>2</td></tr>",
                            "<tr><td>149</td><td>1</td></tr>",
                            "<tr><td>150</td><td>2</td></tr>",
                            "<tr><td>151</td><td>1</td></tr>",
                            "<tr><td>152</td><td>2</td></tr>",
                            "<tr><td>153</td><td>2</td></tr>",
                            "<tr><td>154</td><td>2</td></tr>",
                            "<tr><td>155</td><td>2</td></tr>",
                            "<tr><td>156</td><td>3</td></tr>",
                            "<tr><td>157</td><td>1</td></tr>",
                            "<tr><td>158</td><td>3</td></tr>",
                            "<tr><td>160</td><td>4</td></tr>",
                            "<tr><td>161</td><td>2</td></tr>",
                            "<tr><td>162</td><td>2</td></tr>",
                            "<tr><td>163</td><td>1</td></tr>",
                            "<tr><td>164</td><td>2</td></tr>",
                            "<tr><td>165</td><td>2</td></tr>",
                            "<tr><td>166</td><td>2</td></tr>",
                            "<tr><td>167</td><td>2</td></tr>",
                            "<tr><td>168</td><td>3</td></tr>",
                            "<tr><td>169</td><td>2</td></tr>",
                            "<tr><td>170</td><td>1</td></tr>",
                            "<tr><td>171</td><td>1</td></tr>",
                            "<tr><td>172</td><td>1</td></tr>",
                            "<tr><td>173</td><td>1</td></tr>",
                            "<tr><td>174</td><td>1</td></tr>",
                            "<tr><td>175</td><td>1</td></tr>",
                            "<tr><td>176</td><td>3</td></tr>",
                            "<tr><td>177</td><td>3</td></tr>",
                            "<tr><td>178</td><td>3</td></tr>",
                            "<tr><td>179</td><td>3</td></tr>",
                            "<tr><td>180</td><td>3</td></tr>",
                            "<tr><td>181</td><td>3</td></tr>",
                            "<tr><td>182</td><td>1</td></tr>",
                            "<tr><td>183</td><td>2</td></tr>",
                            "<tr><td>184</td><td>1</td></tr>",
                            "<tr><td>185</td><td>3</td></tr>",
                            "<tr><td>186</td><td>3</td></tr>",
                            "<tr><td>187</td><td>2</td></tr>",
                            "<tr><td>188</td><td>2</td></tr>",
                            "<tr><td>189</td><td>2</td></tr>",
                            "<tr><td>190</td><td>1</td></tr>",
                            "<tr><td>191</td><td>2</td></tr>",
                            "<tr><td>192</td><td>2</td></tr>",
                            "<tr><td>193</td><td>4</td></tr>",
                            "<tr><td>194</td><td>3</td></tr>",
                            "<tr><td>195</td><td>1</td></tr>",
                            "<tr><td>196</td><td>2</td></tr>",
                            "<tr><td>197</td><td>2</td></tr>",
                            "<tr><td>198</td><td>2</td></tr>",
                            "</table>"
                        ]
                    }
                }
            ],
            "execution_count": 45
        },
        {
            "cell_type": "markdown",
            "source": [
                "4\\. feladat"
            ],
            "metadata": {
                "language": "sql",
                "azdata_cell_guid": "719504e8-e174-4743-88e3-2ff5a5624bce"
            },
            "attachments": {}
        },
        {
            "cell_type": "code",
            "source": [
                "SELECT f.SZOBA_FK AS Szoba,\r\n",
                "    f.METTOL AS Datum,\r\n",
                "    COUNT(*) AS Foglalasok_szama_szobankent,\r\n",
                "    COUNT(DISTINCT f.UGYFEL_FK) AS Foglalasok_szama_naponta\r\n",
                "FROM Foglalas f\r\n",
                "GROUP BY f.SZOBA_FK, f.METTOL\r\n",
                "HAVING COUNT(*) >= 2 AND COUNT(DISTINCT f.UGYFEL_FK) >= 2;\r\n",
                "\r\n",
                ""
            ],
            "metadata": {
                "language": "sql",
                "azdata_cell_guid": "ac61cd66-e865-4846-b48d-b52f42213685",
                "tags": []
            },
            "outputs": [
{
    "output_type": "display_data",
    "data": {
        "text/html": "(9 rows affected)"
    },
    "metadata": {}
}, {
    "output_type": "display_data",
    "data": {
        "text/html": "Total execution time: 00:00:00.013"
    },
    "metadata": {}
}, {
    "output_type": "execute_result",
    "metadata": {},
    "execution_count": 46,
    "data": {
        "application/vnd.dataresource+json": {
            "schema": {
                "fields": [
                    {
                        "name": "Szoba"
                    },
                    {
                        "name": "Datum"
                    },
                    {
                        "name": "Foglalasok_szama_szobankent"
                    },
                    {
                        "name": "Foglalasok_szama_naponta"
                    }
                ]
            },
            "data": [
                {
                    "Szoba": "165",
                    "Datum": "2016-06-03",
                    "Foglalasok_szama_szobankent": "3",
                    "Foglalasok_szama_naponta": "3"
                },
                {
                    "Szoba": "40",
                    "Datum": "2016-06-07",
                    "Foglalasok_szama_szobankent": "2",
                    "Foglalasok_szama_naponta": "2"
                },
                {
                    "Szoba": "160",
                    "Datum": "2016-06-07",
                    "Foglalasok_szama_szobankent": "2",
                    "Foglalasok_szama_naponta": "2"
                },
                {
                    "Szoba": "97",
                    "Datum": "2016-07-27",
                    "Foglalasok_szama_szobankent": "2",
                    "Foglalasok_szama_naponta": "2"
                },
                {
                    "Szoba": "45",
                    "Datum": "2016-08-20",
                    "Foglalasok_szama_szobankent": "2",
                    "Foglalasok_szama_naponta": "2"
                },
                {
                    "Szoba": "148",
                    "Datum": "2016-08-23",
                    "Foglalasok_szama_szobankent": "2",
                    "Foglalasok_szama_naponta": "2"
                },
                {
                    "Szoba": "20",
                    "Datum": "2016-10-01",
                    "Foglalasok_szama_szobankent": "2",
                    "Foglalasok_szama_naponta": "2"
                },
                {
                    "Szoba": "150",
                    "Datum": "2016-10-01",
                    "Foglalasok_szama_szobankent": "2",
                    "Foglalasok_szama_naponta": "2"
                },
                {
                    "Szoba": "182",
                    "Datum": "2016-10-30",
                    "Foglalasok_szama_szobankent": "2",
                    "Foglalasok_szama_naponta": "2"
                }
            ]
        },
        "text/html": [
            "<table>",
            "<tr><th>Szoba</th><th>Datum</th><th>Foglalasok_szama_szobankent</th><th>Foglalasok_szama_naponta</th></tr>",
            "<tr><td>165</td><td>2016-06-03</td><td>3</td><td>3</td></tr>",
            "<tr><td>40</td><td>2016-06-07</td><td>2</td><td>2</td></tr>",
            "<tr><td>160</td><td>2016-06-07</td><td>2</td><td>2</td></tr>",
            "<tr><td>97</td><td>2016-07-27</td><td>2</td><td>2</td></tr>",
            "<tr><td>45</td><td>2016-08-20</td><td>2</td><td>2</td></tr>",
            "<tr><td>148</td><td>2016-08-23</td><td>2</td><td>2</td></tr>",
            "<tr><td>20</td><td>2016-10-01</td><td>2</td><td>2</td></tr>",
            "<tr><td>150</td><td>2016-10-01</td><td>2</td><td>2</td></tr>",
            "<tr><td>182</td><td>2016-10-30</td><td>2</td><td>2</td></tr>",
            "</table>"
        ]
    }
}
],
            "execution_count": 46
        },
        {
            "cell_type": "markdown",
            "source": [
                "5\\. feladat"
            ],
            "metadata": {
                "azdata_cell_guid": "7b966507-bf93-4f90-b165-1faac88d7b1a"
            },
            "attachments": {}
        },
        {
            "cell_type": "code",
            "source": [
                "SELECT COUNT(DISTINCT FEROHELY) AS KulonbozoErtekekSzama\r\n",
                "FROM Szoba;"
            ],
            "metadata": {
                "azdata_cell_guid": "24e3b997-da78-4b9c-af14-350c9dc06097",
                "language": "sql"
            },
            "outputs": [
                {
                    "output_type": "display_data",
                    "data": {
                        "text/html": "(1 row affected)"
                    },
                    "metadata": {}
                },
                {
                    "output_type": "display_data",
                    "data": {
                        "text/html": "Total execution time: 00:00:00.015"
                    },
                    "metadata": {}
                },
                {
                    "output_type": "execute_result",
                    "metadata": {},
                    "execution_count": 35,
                    "data": {
                        "application/vnd.dataresource+json": {
                            "schema": {
                                "fields": [
                                    {
                                        "name": "KulonbozoErtekekSzama"
                                    }
                                ]
                            },
                            "data": [
                                {
                                    "KulonbozoErtekekSzama": "4"
                                }
                            ]
                        },
                        "text/html": [
                            "<table>",
                            "<tr><th>KulonbozoErtekekSzama</th></tr>",
                            "<tr><td>4</td></tr>",
                            "</table>"
                        ]
                    }
                }
            ],
            "execution_count": 35
        },
        {
            "cell_type": "code",
            "source": [
                "SELECT MIN(FEROHELY) AS MinimumFerohely,\r\n",
                "       MAX(FEROHELY) AS MaximumFerohely,\r\n",
                "       AVG(FEROHELY) AS AtlagosFerohely\r\n",
                "FROM Szoba;\r\n",
                ""
            ],
            "metadata": {
                "language": "sql",
                "azdata_cell_guid": "4839ff32-0c42-48d0-a956-da22acef3d78"
            },
            "outputs": [
                {
                    "output_type": "display_data",
                    "data": {
                        "text/html": "(1 row affected)"
                    },
                    "metadata": {}
                },
                {
                    "output_type": "display_data",
                    "data": {
                        "text/html": "Total execution time: 00:00:00.006"
                    },
                    "metadata": {}
                },
                {
                    "output_type": "execute_result",
                    "metadata": {},
                    "execution_count": 36,
                    "data": {
                        "application/vnd.dataresource+json": {
                            "schema": {
                                "fields": [
                                    {
                                        "name": "MinimumFerohely"
                                    },
                                    {
                                        "name": "MaximumFerohely"
                                    },
                                    {
                                        "name": "AtlagosFerohely"
                                    }
                                ]
                            },
                            "data": [
                                {
                                    "MinimumFerohely": "1",
                                    "MaximumFerohely": "4",
                                    "AtlagosFerohely": "2"
                                }
                            ]
                        },
                        "text/html": [
                            "<table>",
                            "<tr><th>MinimumFerohely</th><th>MaximumFerohely</th><th>AtlagosFerohely</th></tr>",
                            "<tr><td>1</td><td>4</td><td>2</td></tr>",
                            "</table>"
                        ]
                    }
                }
            ],
            "execution_count": 36
        },
        {
            "cell_type": "code",
            "source": [
                "SELECT \r\n",
                "    (COUNT(FEROHELY) * 100 / (SELECT COUNT(*) FROM Szoba)) AS NotNullSzazalek,\r\n",
                "    (COUNT(*) - COUNT(FEROHELY)) * 100 / (SELECT COUNT(*) FROM Szoba) AS NullSzazalek\r\n",
                "FROM Szoba;\r\n",
                ""
            ],
            "metadata": {
                "language": "sql",
                "azdata_cell_guid": "f01766fb-9037-4bc6-9746-016cc69df6dc"
            },
            "outputs": [
                {
                    "output_type": "display_data",
                    "data": {
                        "text/html": "(1 row affected)"
                    },
                    "metadata": {}
                },
                {
                    "output_type": "display_data",
                    "data": {
                        "text/html": "Total execution time: 00:00:00.007"
                    },
                    "metadata": {}
                },
                {
                    "output_type": "execute_result",
                    "metadata": {},
                    "execution_count": 37,
                    "data": {
                        "application/vnd.dataresource+json": {
                            "schema": {
                                "fields": [
                                    {
                                        "name": "NotNullSzazalek"
                                    },
                                    {
                                        "name": "NullSzazalek"
                                    }
                                ]
                            },
                            "data": [
                                {
                                    "NotNullSzazalek": "100",
                                    "NullSzazalek": "0"
                                }
                            ]
                        },
                        "text/html": [
                            "<table>",
                            "<tr><th>NotNullSzazalek</th><th>NullSzazalek</th></tr>",
                            "<tr><td>100</td><td>0</td></tr>",
                            "</table>"
                        ]
                    }
                }
            ],
            "execution_count": 37
        },
        {
            "cell_type": "markdown",
            "source": [
                "6\\. feladat"
            ],
            "metadata": {
                "language": "sql",
                "azdata_cell_guid": "450836b1-8505-49b4-b6ad-4c3b39f535c9"
            },
            "attachments": {}
        },
        {
            "cell_type": "code",
            "source": [
                "HSET IRO:1 ID 1 nev \"J.K. Rowling\" nemzetiseg \"brit\"\r\n",
                "HSET IRO:2 ID 2 nev \"George Orwell\" nemzetiseg \"brit\"\r\n",
                "\r\n",
                "HSET KONYV:1 ID 1 cim \"Harry Potter and the Philosopher's Stone\" mufaj \"fantasy\"\r\n",
                "HSET KONYV:2 ID 2 cim \"1984\" mufaj \"dystopian\""
            ],
            "metadata": {
                "language": "sql",
                "azdata_cell_guid": "e71bbc6e-43fb-4bb2-97f1-9a3f9ea2dc9a"
            },
            "outputs": [],
            "execution_count": null
        },
        {
            "cell_type": "markdown",
            "source": [
                "7\\. feladat"
            ],
            "metadata": {
                "language": "sql",
                "azdata_cell_guid": "9a7e58e3-58b3-48bc-ae06-88e538eeaf7c"
            },
            "attachments": {}
        },
        {
            "cell_type": "code",
            "source": [
                "CREATE TABLE STUDENT (\r\n",
                "    ID UUID PRIMARY KEY,\r\n",
                "    Nev TEXT,\r\n",
                "    Teljesitett_felevek LIST<INT>,\r\n",
                "    Eredmenyek MAP<INT, FLOAT>,\r\n",
                "    Nyelvtudas SET<TEXT>\r\n",
                ");\r\n",
                "\r\n",
                "INSERT INTO STUDENT (ID, Nev, Teljesitett_felevek, Eredmenyek, Nyelvtudas)\r\n",
                "VALUES (\r\n",
                "    uuid(),\r\n",
                "    'John Doe',\r\n",
                "    [1, 2, 3],\r\n",
                "    {1: 3.00, 2: 4.55, 3: 4.10},\r\n",
                "    {'English', 'Spanish'}\r\n",
                ");\r\n",
                "\r\n",
                "INSERT INTO STUDENT (ID, Nev, Teljesitett_felevek, Eredmenyek, Nyelvtudas)\r\n",
                "VALUES (\r\n",
                "    uuid(),\r\n",
                "    'Jane Smith',\r\n",
                "    [1, 2],\r\n",
                "    {1: 4.20, 2: 3.80},\r\n",
                "    {'French', 'German'}\r\n",
                ");\r\n",
                ""
            ],
            "metadata": {
                "language": "sql",
                "azdata_cell_guid": "346726ca-a50b-4653-9e90-a295e23d5016"
            },
            "outputs": [],
            "execution_count": null
        },
        {
            "cell_type": "markdown",
            "source": [
                "8\\. feladat"
            ],
            "metadata": {
                "language": "sql",
                "azdata_cell_guid": "1da7ba5f-bbc6-453f-aa10-b660bc6788af"
            },
            "attachments": {}
        },
        {
            "cell_type": "code",
            "source": [
                "MATCH (p:Person {name: 'Tom Hanks'})-[:ACTED_IN]->(movie)<-[:ACTED_IN]-(szerepelt)\r\n",
                "WHERE p <> szerepelt\r\n",
                "RETURN DISTINCT szerepelt.name"
            ],
            "metadata": {
                "language": "sql",
                "azdata_cell_guid": "e60e00e9-0d77-4f68-9e13-422934d730fc"
            },
            "outputs": [],
            "execution_count": null
        }
    ]
}
